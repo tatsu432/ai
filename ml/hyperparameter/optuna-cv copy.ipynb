{
 "cells": [
  {
   "cell_type": "code",
   "execution_count": 5,
   "metadata": {},
   "outputs": [],
   "source": [
    "import pandas as pd\n",
    "import xgboost as xgb\n",
    "import optuna\n",
    "import numpy as np\n",
    "\n",
    "# # 1. Load your dataset into a pandas DataFrame\n",
    "# #    Replace 'your_dataset.csv' with your actual file path or DataFrame source.\n",
    "# df = pd.read_csv('your_dataset.csv')\n",
    "\n",
    "# # 2. Separate features, label, and weight\n",
    "# #    - 'label' is the binary target column.\n",
    "# #    - 'weight_column' contains the weight for each row.\n",
    "# X = df.drop(['label', 'weight_column'], axis=1)\n",
    "# y = df['label']\n",
    "# w = df['weight_column']\n",
    "\n",
    "# Set a random seed for reproducibility\n",
    "np.random.seed(42)\n",
    "\n",
    "# Generate 500 samples with 10 features\n",
    "n_samples = 500\n",
    "n_features = 10\n",
    "\n",
    "# Random features from a normal distribution\n",
    "X = np.random.randn(n_samples, n_features)\n",
    "\n",
    "# Binary labels (0 or 1), with some imbalance\n",
    "y = np.random.binomial(1, p=0.3, size=n_samples)\n",
    "\n",
    "# Sample weights: higher weights for class 1\n",
    "w = np.where(y == 1, 3.0, 1.0) + 0.1 * np.random.randn(n_samples)\n",
    "\n",
    "\n",
    "# 3. Create an XGBoost DMatrix, passing in the sample weights\n",
    "dtrain = xgb.DMatrix(data=X, label=y, weight=w)"
   ]
  },
  {
   "cell_type": "code",
   "execution_count": 6,
   "metadata": {},
   "outputs": [],
   "source": [
    "# 4. Define the Optuna objective function\n",
    "def objective(trial):\n",
    "    # 4.1 Suggest values for hyperparameters to tune\n",
    "    params = {\n",
    "        'objective': 'binary:logistic',      # binary classification\n",
    "        'eval_metric': 'auc',                # use AUC for evaluation\n",
    "        'verbosity': 0,                      # silent\n",
    "        'tree_method': 'hist',               # faster histogram algorithm\n",
    "        # tuning search space:\n",
    "        'max_depth': trial.suggest_int('max_depth', 3, 10),\n",
    "        'learning_rate': trial.suggest_float('learning_rate', 1e-4, 1e-1, log=True),\n",
    "        'subsample': trial.suggest_float('subsample', 0.5, 1.0),\n",
    "        'colsample_bytree': trial.suggest_float('colsample_bytree', 0.5, 1.0),\n",
    "        'min_child_weight': trial.suggest_int('min_child_weight', 1, 10),\n",
    "        'gamma': trial.suggest_float('gamma', 1e-8, 1.0, log=True),\n",
    "    }\n",
    "\n",
    "    # 4.2 Run cross-validation with early stopping\n",
    "    cv_results = xgb.cv(\n",
    "        params=params,\n",
    "        dtrain=dtrain,\n",
    "        num_boost_round=1000,               # maximum number of trees\n",
    "        nfold=5,                            # 5-fold CV\n",
    "        metrics=('auc',),                   # evaluate AUC\n",
    "        early_stopping_rounds=50,           # stop if no improvement after 50 rounds\n",
    "        seed=42,                            # for reproducibility\n",
    "        stratified=True                     # maintain label ratio in folds\n",
    "    )\n",
    "\n",
    "    # 4.3 Extract the best average validation AUC\n",
    "    best_auc = cv_results['test-auc-mean'].max()\n",
    "\n",
    "    # 4.4 Return it (Optuna will try to maximize it)\n",
    "    return best_auc"
   ]
  },
  {
   "cell_type": "code",
   "execution_count": null,
   "metadata": {},
   "outputs": [],
   "source": [
    "# 5. Create and run the study\n",
    "study = optuna.create_study(direction='maximize')\n",
    "study.optimize(objective, n_trials=50, timeout=600)"
   ]
  },
  {
   "cell_type": "code",
   "execution_count": null,
   "metadata": {},
   "outputs": [],
   "source": [
    "# 6. Display the best results\n",
    "print(f\"Best AUC: {study.best_value:.4f}\")\n",
    "print(\"Best hyperparameters:\")\n",
    "for key, val in study.best_params.items():\n",
    "    print(f\"  {key}: {val}\")"
   ]
  },
  {
   "cell_type": "code",
   "execution_count": null,
   "metadata": {},
   "outputs": [],
   "source": []
  }
 ],
 "metadata": {
  "kernelspec": {
   "display_name": "base",
   "language": "python",
   "name": "python3"
  },
  "language_info": {
   "codemirror_mode": {
    "name": "ipython",
    "version": 3
   },
   "file_extension": ".py",
   "mimetype": "text/x-python",
   "name": "python",
   "nbconvert_exporter": "python",
   "pygments_lexer": "ipython3",
   "version": "3.11.5"
  }
 },
 "nbformat": 4,
 "nbformat_minor": 2
}
