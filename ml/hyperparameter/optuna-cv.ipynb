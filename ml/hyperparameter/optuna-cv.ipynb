{
 "cells": [
  {
   "cell_type": "code",
   "execution_count": 5,
   "metadata": {},
   "outputs": [],
   "source": [
    "import pandas as pd\n",
    "import xgboost as xgb\n",
    "import optuna\n",
    "import numpy as np\n",
    "\n",
    "# # 1. Load your dataset into a pandas DataFrame\n",
    "# #    Replace 'your_dataset.csv' with your actual file path or DataFrame source.\n",
    "# df = pd.read_csv('your_dataset.csv')\n",
    "\n",
    "# # 2. Separate features, label, and weight\n",
    "# #    - 'label' is the binary target column.\n",
    "# #    - 'weight_column' contains the weight for each row.\n",
    "# X = df.drop(['label', 'weight_column'], axis=1)\n",
    "# y = df['label']\n",
    "# w = df['weight_column']\n",
    "\n",
    "# Set a random seed for reproducibility\n",
    "np.random.seed(42)\n",
    "\n",
    "# Generate 500 samples with 10 features\n",
    "n_samples = 500\n",
    "n_features = 10\n",
    "\n",
    "# Random features from a normal distribution\n",
    "X = np.random.randn(n_samples, n_features)\n",
    "\n",
    "# Binary labels (0 or 1), with some imbalance\n",
    "y = np.random.binomial(1, p=0.3, size=n_samples)\n",
    "\n",
    "# Sample weights: higher weights for class 1\n",
    "w = np.where(y == 1, 3.0, 1.0) + 0.1 * np.random.randn(n_samples)\n",
    "\n",
    "\n",
    "# 3. Create an XGBoost DMatrix, passing in the sample weights\n",
    "dtrain = xgb.DMatrix(data=X, label=y, weight=w)"
   ]
  },
  {
   "cell_type": "code",
   "execution_count": 6,
   "metadata": {},
   "outputs": [],
   "source": [
    "# 4. Define the Optuna objective function\n",
    "def objective(trial):\n",
    "    # 4.1 Suggest values for hyperparameters to tune\n",
    "    params = {\n",
    "        'objective': 'binary:logistic',      # binary classification\n",
    "        'eval_metric': 'auc',                # use AUC for evaluation\n",
    "        'verbosity': 0,                      # silent\n",
    "        'tree_method': 'hist',               # faster histogram algorithm\n",
    "        # tuning search space:\n",
    "        'max_depth': trial.suggest_int('max_depth', 3, 10),\n",
    "        'learning_rate': trial.suggest_float('learning_rate', 1e-4, 1e-1, log=True),\n",
    "        'subsample': trial.suggest_float('subsample', 0.5, 1.0),\n",
    "        'colsample_bytree': trial.suggest_float('colsample_bytree', 0.5, 1.0),\n",
    "        'min_child_weight': trial.suggest_int('min_child_weight', 1, 10),\n",
    "        'gamma': trial.suggest_float('gamma', 1e-8, 1.0, log=True),\n",
    "    }\n",
    "\n",
    "    # 4.2 Run cross-validation with early stopping\n",
    "    cv_results = xgb.cv(\n",
    "        params=params,\n",
    "        dtrain=dtrain,\n",
    "        num_boost_round=1000,               # maximum number of trees\n",
    "        nfold=5,                            # 5-fold CV\n",
    "        metrics=('auc',),                   # evaluate AUC\n",
    "        early_stopping_rounds=50,           # stop if no improvement after 50 rounds\n",
    "        seed=42,                            # for reproducibility\n",
    "        stratified=True                     # maintain label ratio in folds\n",
    "    )\n",
    "\n",
    "    # 4.3 Extract the best average validation AUC\n",
    "    best_auc = cv_results['test-auc-mean'].max()\n",
    "\n",
    "    # 4.4 Return it (Optuna will try to maximize it)\n",
    "    return best_auc"
   ]
  },
  {
   "cell_type": "code",
   "execution_count": 7,
   "metadata": {},
   "outputs": [
    {
     "name": "stderr",
     "output_type": "stream",
     "text": [
      "[I 2025-06-27 10:19:19,091] A new study created in memory with name: no-name-4ec5a305-6aee-4a65-862c-110bc4e250c4\n",
      "[I 2025-06-27 10:19:19,383] Trial 0 finished with value: 0.5297559862778906 and parameters: {'max_depth': 8, 'learning_rate': 0.0453527986617336, 'subsample': 0.5089292726627259, 'colsample_bytree': 0.5290104380184957, 'min_child_weight': 10, 'gamma': 0.12870045725977144}. Best is trial 0 with value: 0.5297559862778906.\n",
      "[I 2025-06-27 10:19:19,577] Trial 1 finished with value: 0.5205924781120584 and parameters: {'max_depth': 9, 'learning_rate': 0.0004030149436437459, 'subsample': 0.8369050041106911, 'colsample_bytree': 0.8473333633247015, 'min_child_weight': 9, 'gamma': 0.008435406358373596}. Best is trial 0 with value: 0.5297559862778906.\n",
      "[I 2025-06-27 10:19:19,942] Trial 2 finished with value: 0.5354100532927892 and parameters: {'max_depth': 7, 'learning_rate': 0.0006152908121484206, 'subsample': 0.6213105360740743, 'colsample_bytree': 0.7605242971766957, 'min_child_weight': 1, 'gamma': 0.0026125564591819514}. Best is trial 2 with value: 0.5354100532927892.\n",
      "[I 2025-06-27 10:19:20,140] Trial 3 finished with value: 0.5338046378491661 and parameters: {'max_depth': 8, 'learning_rate': 0.0002047418798860071, 'subsample': 0.93373608181192, 'colsample_bytree': 0.7852506710516347, 'min_child_weight': 9, 'gamma': 0.05064129400958782}. Best is trial 2 with value: 0.5354100532927892.\n",
      "[I 2025-06-27 10:19:20,347] Trial 4 finished with value: 0.5145833594805201 and parameters: {'max_depth': 5, 'learning_rate': 0.03752145000765904, 'subsample': 0.6611727898115942, 'colsample_bytree': 0.9124843572848171, 'min_child_weight': 5, 'gamma': 0.0012094514108180606}. Best is trial 2 with value: 0.5354100532927892.\n",
      "[I 2025-06-27 10:19:20,550] Trial 5 finished with value: 0.5537317304761087 and parameters: {'max_depth': 8, 'learning_rate': 0.0005241090923044698, 'subsample': 0.7474569876474193, 'colsample_bytree': 0.6569876696152475, 'min_child_weight': 4, 'gamma': 8.809500855964352e-07}. Best is trial 5 with value: 0.5537317304761087.\n",
      "[I 2025-06-27 10:19:20,675] Trial 6 finished with value: 0.5460781453806167 and parameters: {'max_depth': 7, 'learning_rate': 0.008459825147870265, 'subsample': 0.758350640543973, 'colsample_bytree': 0.6948695995169565, 'min_child_weight': 10, 'gamma': 0.4640026640537178}. Best is trial 5 with value: 0.5537317304761087.\n",
      "[I 2025-06-27 10:19:20,828] Trial 7 finished with value: 0.5326869271767186 and parameters: {'max_depth': 8, 'learning_rate': 0.06637748520339833, 'subsample': 0.7783495398444181, 'colsample_bytree': 0.7142682101780304, 'min_child_weight': 6, 'gamma': 9.192000611067842e-08}. Best is trial 5 with value: 0.5537317304761087.\n",
      "[I 2025-06-27 10:19:21,002] Trial 8 finished with value: 0.5321485506771856 and parameters: {'max_depth': 5, 'learning_rate': 0.00038147027824095563, 'subsample': 0.9858373256959002, 'colsample_bytree': 0.6855890449194306, 'min_child_weight': 5, 'gamma': 1.5857918824582295e-06}. Best is trial 5 with value: 0.5537317304761087.\n",
      "[I 2025-06-27 10:19:21,228] Trial 9 finished with value: 0.5428616359423839 and parameters: {'max_depth': 9, 'learning_rate': 0.021860355558698634, 'subsample': 0.6236784334484698, 'colsample_bytree': 0.9125496374708651, 'min_child_weight': 2, 'gamma': 3.310783056081049e-07}. Best is trial 5 with value: 0.5537317304761087.\n",
      "[I 2025-06-27 10:19:21,363] Trial 10 finished with value: 0.5345603986031907 and parameters: {'max_depth': 3, 'learning_rate': 0.002469293367608618, 'subsample': 0.8465645621566967, 'colsample_bytree': 0.5655201168415738, 'min_child_weight': 3, 'gamma': 2.0900105643815242e-05}. Best is trial 5 with value: 0.5537317304761087.\n",
      "[I 2025-06-27 10:19:21,513] Trial 11 finished with value: 0.5611200024252312 and parameters: {'max_depth': 6, 'learning_rate': 0.005208343185018006, 'subsample': 0.7148697913476809, 'colsample_bytree': 0.623582707111231, 'min_child_weight': 7, 'gamma': 0.8437351355458612}. Best is trial 11 with value: 0.5611200024252312.\n",
      "[I 2025-06-27 10:19:21,656] Trial 12 finished with value: 0.5444647368070707 and parameters: {'max_depth': 5, 'learning_rate': 0.0012756813616593297, 'subsample': 0.6919699622920767, 'colsample_bytree': 0.6170404190028748, 'min_child_weight': 7, 'gamma': 3.3513035589435e-05}. Best is trial 11 with value: 0.5611200024252312.\n",
      "[I 2025-06-27 10:19:21,888] Trial 13 finished with value: 0.5635054327729637 and parameters: {'max_depth': 10, 'learning_rate': 0.0074640039520739955, 'subsample': 0.716207781474222, 'colsample_bytree': 0.6190533664766389, 'min_child_weight': 4, 'gamma': 1.1106142680852793e-08}. Best is trial 13 with value: 0.5635054327729637.\n",
      "[I 2025-06-27 10:19:22,020] Trial 14 finished with value: 0.5657939810253685 and parameters: {'max_depth': 10, 'learning_rate': 0.006883905350726699, 'subsample': 0.5471863291631808, 'colsample_bytree': 0.5936693222335381, 'min_child_weight': 7, 'gamma': 2.772560473873155e-08}. Best is trial 14 with value: 0.5657939810253685.\n",
      "[I 2025-06-27 10:19:22,212] Trial 15 finished with value: 0.5372134255623962 and parameters: {'max_depth': 10, 'learning_rate': 0.012826926646929348, 'subsample': 0.5294238865799744, 'colsample_bytree': 0.5215435498098457, 'min_child_weight': 7, 'gamma': 1.0393650973690627e-08}. Best is trial 14 with value: 0.5657939810253685.\n",
      "[I 2025-06-27 10:19:22,418] Trial 16 finished with value: 0.5621487892477386 and parameters: {'max_depth': 10, 'learning_rate': 0.003202080148664134, 'subsample': 0.5561196353831378, 'colsample_bytree': 0.5896423993362231, 'min_child_weight': 3, 'gamma': 1.0443316162908243e-08}. Best is trial 14 with value: 0.5657939810253685.\n",
      "[I 2025-06-27 10:19:22,585] Trial 17 finished with value: 0.5328377449417698 and parameters: {'max_depth': 10, 'learning_rate': 0.015035092241653517, 'subsample': 0.5929208957590801, 'colsample_bytree': 0.5084600466619648, 'min_child_weight': 6, 'gamma': 6.415695355977902e-06}. Best is trial 14 with value: 0.5657939810253685.\n",
      "[I 2025-06-27 10:19:22,835] Trial 18 finished with value: 0.5609231072906525 and parameters: {'max_depth': 9, 'learning_rate': 0.0017742003673084745, 'subsample': 0.8306838084540709, 'colsample_bytree': 0.9760519920611417, 'min_child_weight': 4, 'gamma': 6.615569435679081e-08}. Best is trial 14 with value: 0.5657939810253685.\n",
      "[I 2025-06-27 10:19:22,938] Trial 19 finished with value: 0.524550642972266 and parameters: {'max_depth': 3, 'learning_rate': 0.006569498677999498, 'subsample': 0.5919810414330864, 'colsample_bytree': 0.6421323433838212, 'min_child_weight': 8, 'gamma': 9.048091815008505e-08}. Best is trial 14 with value: 0.5657939810253685.\n",
      "[I 2025-06-27 10:19:23,198] Trial 20 finished with value: 0.5201801225992955 and parameters: {'max_depth': 10, 'learning_rate': 0.0010585068064486198, 'subsample': 0.9092602491704551, 'colsample_bytree': 0.5711924796022267, 'min_child_weight': 4, 'gamma': 0.00012858016082011606}. Best is trial 14 with value: 0.5657939810253685.\n",
      "[I 2025-06-27 10:19:23,438] Trial 21 finished with value: 0.5477823553738415 and parameters: {'max_depth': 10, 'learning_rate': 0.003547993912860431, 'subsample': 0.5436441820912535, 'colsample_bytree': 0.5753682818226238, 'min_child_weight': 2, 'gamma': 1.087036026538882e-08}. Best is trial 14 with value: 0.5657939810253685.\n",
      "[I 2025-06-27 10:19:23,669] Trial 22 finished with value: 0.5622964924835824 and parameters: {'max_depth': 9, 'learning_rate': 0.0042967379127193265, 'subsample': 0.5563520269074725, 'colsample_bytree': 0.5917127791209469, 'min_child_weight': 3, 'gamma': 3.124322936476737e-08}. Best is trial 14 with value: 0.5657939810253685.\n",
      "[I 2025-06-27 10:19:23,880] Trial 23 finished with value: 0.5601257221607335 and parameters: {'max_depth': 9, 'learning_rate': 0.011144087478474677, 'subsample': 0.6606853156989834, 'colsample_bytree': 0.6544644325971366, 'min_child_weight': 3, 'gamma': 2.533549895923034e-07}. Best is trial 14 with value: 0.5657939810253685.\n",
      "[I 2025-06-27 10:19:24,143] Trial 24 finished with value: 0.5603579808554491 and parameters: {'max_depth': 9, 'learning_rate': 0.02377504430887218, 'subsample': 0.5799943160291122, 'colsample_bytree': 0.7263889636181631, 'min_child_weight': 1, 'gamma': 4.300334865316398e-08}. Best is trial 14 with value: 0.5657939810253685.\n",
      "[I 2025-06-27 10:19:24,318] Trial 25 finished with value: 0.5384155748698392 and parameters: {'max_depth': 10, 'learning_rate': 0.005050275064031008, 'subsample': 0.5004467503942338, 'colsample_bytree': 0.6076885207818663, 'min_child_weight': 5, 'gamma': 2.6120644584944262e-06}. Best is trial 14 with value: 0.5657939810253685.\n",
      "[I 2025-06-27 10:19:24,584] Trial 26 finished with value: 0.5578874336135244 and parameters: {'max_depth': 9, 'learning_rate': 0.0021578566638408778, 'subsample': 0.6557644014278465, 'colsample_bytree': 0.5365925308043222, 'min_child_weight': 2, 'gamma': 6.130967964040433e-07}. Best is trial 14 with value: 0.5657939810253685.\n",
      "[I 2025-06-27 10:19:24,955] Trial 27 finished with value: 0.5282254465300522 and parameters: {'max_depth': 7, 'learning_rate': 0.09230399516123175, 'subsample': 0.7063155190716885, 'colsample_bytree': 0.7946154662372555, 'min_child_weight': 6, 'gamma': 3.598448254106193e-08}. Best is trial 14 with value: 0.5657939810253685.\n",
      "[I 2025-06-27 10:19:25,268] Trial 28 finished with value: 0.5587007904564856 and parameters: {'max_depth': 10, 'learning_rate': 0.004949852159957262, 'subsample': 0.6285489735882096, 'colsample_bytree': 0.5503132290888321, 'min_child_weight': 4, 'gamma': 0.0002618461910196551}. Best is trial 14 with value: 0.5657939810253685.\n",
      "[I 2025-06-27 10:19:25,417] Trial 29 finished with value: 0.5283425446894899 and parameters: {'max_depth': 8, 'learning_rate': 0.03343694330329525, 'subsample': 0.5251392123860101, 'colsample_bytree': 0.6723254330345448, 'min_child_weight': 8, 'gamma': 2.615474417273625e-07}. Best is trial 14 with value: 0.5657939810253685.\n",
      "[I 2025-06-27 10:19:25,602] Trial 30 finished with value: 0.5725256253030565 and parameters: {'max_depth': 8, 'learning_rate': 0.008752121793134211, 'subsample': 0.5717436554892465, 'colsample_bytree': 0.5998836214050426, 'min_child_weight': 3, 'gamma': 5.070519357769394e-06}. Best is trial 30 with value: 0.5725256253030565.\n",
      "[I 2025-06-27 10:19:25,871] Trial 31 finished with value: 0.5578755471475313 and parameters: {'max_depth': 8, 'learning_rate': 0.007435306113320953, 'subsample': 0.5608259447651366, 'colsample_bytree': 0.6204891265292694, 'min_child_weight': 3, 'gamma': 6.9580544232840685e-06}. Best is trial 30 with value: 0.5725256253030565.\n",
      "[I 2025-06-27 10:19:26,073] Trial 32 finished with value: 0.5677209924636394 and parameters: {'max_depth': 9, 'learning_rate': 0.01041217638408327, 'subsample': 0.5845642716395558, 'colsample_bytree': 0.595659107208524, 'min_child_weight': 2, 'gamma': 3.5110902535121724e-08}. Best is trial 30 with value: 0.5725256253030565.\n",
      "[I 2025-06-27 10:19:26,303] Trial 33 finished with value: 0.5638081993698263 and parameters: {'max_depth': 9, 'learning_rate': 0.014822960760656496, 'subsample': 0.6106974187627185, 'colsample_bytree': 0.5001193679447666, 'min_child_weight': 1, 'gamma': 2.559486373815196e-07}. Best is trial 30 with value: 0.5725256253030565.\n",
      "[I 2025-06-27 10:19:26,571] Trial 34 finished with value: 0.550250203434558 and parameters: {'max_depth': 9, 'learning_rate': 0.021382830200590813, 'subsample': 0.5987845224857754, 'colsample_bytree': 0.5046551406700678, 'min_child_weight': 1, 'gamma': 1.6679605243364893e-07}. Best is trial 30 with value: 0.5725256253030565.\n",
      "[I 2025-06-27 10:19:26,775] Trial 35 finished with value: 0.5588262237001562 and parameters: {'max_depth': 8, 'learning_rate': 0.013384842460928192, 'subsample': 0.6282347665436419, 'colsample_bytree': 0.5404836286658001, 'min_child_weight': 1, 'gamma': 2.6726756445405353e-06}. Best is trial 30 with value: 0.5725256253030565.\n",
      "[I 2025-06-27 10:19:27,094] Trial 36 finished with value: 0.5306966872273557 and parameters: {'max_depth': 7, 'learning_rate': 0.04301596189740469, 'subsample': 0.5044889024549746, 'colsample_bytree': 0.5507708413395863, 'min_child_weight': 2, 'gamma': 5.704285876365277e-07}. Best is trial 30 with value: 0.5725256253030565.\n",
      "[I 2025-06-27 10:19:27,309] Trial 37 finished with value: 0.5449043049165267 and parameters: {'max_depth': 8, 'learning_rate': 0.00013759880798700627, 'subsample': 0.5730121765772102, 'colsample_bytree': 0.8061113047231573, 'min_child_weight': 1, 'gamma': 0.019976643619013433}. Best is trial 30 with value: 0.5725256253030565.\n",
      "[I 2025-06-27 10:19:27,467] Trial 38 finished with value: 0.5362720480490484 and parameters: {'max_depth': 6, 'learning_rate': 0.017273127980992332, 'subsample': 0.6740307042649173, 'colsample_bytree': 0.750922456441526, 'min_child_weight': 2, 'gamma': 9.054930995085383e-06}. Best is trial 30 with value: 0.5725256253030565.\n",
      "[I 2025-06-27 10:19:27,608] Trial 39 finished with value: 0.5189865162508331 and parameters: {'max_depth': 9, 'learning_rate': 0.01036379364821287, 'subsample': 0.6119602857956611, 'colsample_bytree': 0.5021160937442971, 'min_child_weight': 8, 'gamma': 1.3623286061718376e-06}. Best is trial 30 with value: 0.5725256253030565.\n",
      "[I 2025-06-27 10:19:27,815] Trial 40 finished with value: 0.5437321127731453 and parameters: {'max_depth': 7, 'learning_rate': 0.029378796986375973, 'subsample': 0.5257817677805419, 'colsample_bytree': 0.7098317659774953, 'min_child_weight': 1, 'gamma': 1.467570426194552e-07}. Best is trial 30 with value: 0.5725256253030565.\n",
      "[I 2025-06-27 10:19:28,071] Trial 41 finished with value: 0.5457430231729744 and parameters: {'max_depth': 10, 'learning_rate': 0.008203440194068387, 'subsample': 0.6435772140030109, 'colsample_bytree': 0.6459625450419862, 'min_child_weight': 2, 'gamma': 2.538138092052033e-08}. Best is trial 30 with value: 0.5725256253030565.\n",
      "[I 2025-06-27 10:19:28,246] Trial 42 finished with value: 0.552045307089472 and parameters: {'max_depth': 10, 'learning_rate': 0.0063976456148349915, 'subsample': 0.5803035704797881, 'colsample_bytree': 0.5842937749729896, 'min_child_weight': 4, 'gamma': 2.198740140573747e-08}. Best is trial 30 with value: 0.5725256253030565.\n",
      "[I 2025-06-27 10:19:28,413] Trial 43 finished with value: 0.574777447221185 and parameters: {'max_depth': 9, 'learning_rate': 0.00992095788535075, 'subsample': 0.7439698662961218, 'colsample_bytree': 0.6341045414805973, 'min_child_weight': 5, 'gamma': 6.99801971161806e-08}. Best is trial 43 with value: 0.574777447221185.\n",
      "[I 2025-06-27 10:19:28,574] Trial 44 finished with value: 0.5660853420618028 and parameters: {'max_depth': 8, 'learning_rate': 0.017960436267459655, 'subsample': 0.7736156833833043, 'colsample_bytree': 0.6822187041020378, 'min_child_weight': 5, 'gamma': 9.571806461354029e-08}. Best is trial 43 with value: 0.574777447221185.\n",
      "[I 2025-06-27 10:19:28,759] Trial 45 finished with value: 0.5638500243736219 and parameters: {'max_depth': 8, 'learning_rate': 0.00972721138518954, 'subsample': 0.7987931854894996, 'colsample_bytree': 0.6899299781218934, 'min_child_weight': 5, 'gamma': 0.003073804496352811}. Best is trial 43 with value: 0.574777447221185.\n",
      "[I 2025-06-27 10:19:28,949] Trial 46 finished with value: 0.5170031970239506 and parameters: {'max_depth': 8, 'learning_rate': 0.04902900178074374, 'subsample': 0.7553465819591976, 'colsample_bytree': 0.731702938056972, 'min_child_weight': 5, 'gamma': 7.359062680632995e-08}. Best is trial 43 with value: 0.574777447221185.\n",
      "[I 2025-06-27 10:19:29,065] Trial 47 finished with value: 0.5355597950838891 and parameters: {'max_depth': 4, 'learning_rate': 0.01943251634093262, 'subsample': 0.7806957627045157, 'colsample_bytree': 0.6615794555336101, 'min_child_weight': 7, 'gamma': 0.0005691946112979517}. Best is trial 43 with value: 0.574777447221185.\n",
      "[I 2025-06-27 10:19:29,217] Trial 48 finished with value: 0.5545740628071212 and parameters: {'max_depth': 6, 'learning_rate': 0.00285778331799405, 'subsample': 0.9020287269105366, 'colsample_bytree': 0.6335048252219203, 'min_child_weight': 6, 'gamma': 8.583346854537772e-07}. Best is trial 43 with value: 0.574777447221185.\n",
      "[I 2025-06-27 10:19:29,351] Trial 49 finished with value: 0.5481748677777867 and parameters: {'max_depth': 7, 'learning_rate': 0.02937479572305329, 'subsample': 0.7329692939715791, 'colsample_bytree': 0.6686916359944384, 'min_child_weight': 9, 'gamma': 1.95287487259533e-05}. Best is trial 43 with value: 0.574777447221185.\n"
     ]
    }
   ],
   "source": [
    "# 5. Create and run the study\n",
    "study = optuna.create_study(direction='maximize')\n",
    "study.optimize(objective, n_trials=50, timeout=600)"
   ]
  },
  {
   "cell_type": "code",
   "execution_count": 8,
   "metadata": {},
   "outputs": [
    {
     "name": "stdout",
     "output_type": "stream",
     "text": [
      "Best AUC: 0.5748\n",
      "Best hyperparameters:\n",
      "  max_depth: 9\n",
      "  learning_rate: 0.00992095788535075\n",
      "  subsample: 0.7439698662961218\n",
      "  colsample_bytree: 0.6341045414805973\n",
      "  min_child_weight: 5\n",
      "  gamma: 6.99801971161806e-08\n"
     ]
    }
   ],
   "source": [
    "# 6. Display the best results\n",
    "print(f\"Best AUC: {study.best_value:.4f}\")\n",
    "print(\"Best hyperparameters:\")\n",
    "for key, val in study.best_params.items():\n",
    "    print(f\"  {key}: {val}\")"
   ]
  },
  {
   "cell_type": "code",
   "execution_count": null,
   "metadata": {},
   "outputs": [],
   "source": []
  }
 ],
 "metadata": {
  "kernelspec": {
   "display_name": "base",
   "language": "python",
   "name": "python3"
  },
  "language_info": {
   "codemirror_mode": {
    "name": "ipython",
    "version": 3
   },
   "file_extension": ".py",
   "mimetype": "text/x-python",
   "name": "python",
   "nbconvert_exporter": "python",
   "pygments_lexer": "ipython3",
   "version": "3.11.5"
  }
 },
 "nbformat": 4,
 "nbformat_minor": 2
}
