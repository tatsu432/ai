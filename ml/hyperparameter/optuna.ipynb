{
 "cells": [
  {
   "cell_type": "code",
   "execution_count": 9,
   "metadata": {},
   "outputs": [],
   "source": [
    "import optuna\n",
    "import xgboost as xgb\n",
    "from sklearn.datasets import load_breast_cancer\n",
    "from sklearn.model_selection import train_test_split\n",
    "from sklearn.metrics import roc_auc_score"
   ]
  },
  {
   "cell_type": "code",
   "execution_count": 10,
   "metadata": {},
   "outputs": [],
   "source": [
    "# 3.1 Load data\n",
    "X, y = load_breast_cancer(return_X_y=True)\n",
    "X_train, X_valid, y_train, y_valid = train_test_split(\n",
    "    X, y, test_size=0.2, random_state=42\n",
    ")"
   ]
  },
  {
   "cell_type": "code",
   "execution_count": 11,
   "metadata": {},
   "outputs": [],
   "source": [
    "# 3.2 Define objective\n",
    "def objective(trial):\n",
    "    # 3.2.1 Suggest hyperparameters\n",
    "    param = {\n",
    "        \"verbosity\": 0,\n",
    "        \"objective\": \"binary:logistic\",\n",
    "        \"eval_metric\": \"auc\",\n",
    "        \"booster\": trial.suggest_categorical(\"booster\", [\"gbtree\", \"dart\"]),\n",
    "        \"lambda\": trial.suggest_loguniform(\"lambda\", 1e-8, 10.0),\n",
    "        \"alpha\": trial.suggest_loguniform(\"alpha\", 1e-8, 10.0),\n",
    "        \"max_depth\": trial.suggest_int(\"max_depth\", 3, 12),\n",
    "        \"eta\": trial.suggest_loguniform(\"eta\", 1e-3, 0.3),\n",
    "        \"subsample\": trial.suggest_uniform(\"subsample\", 0.5, 1.0),\n",
    "        \"colsample_bytree\": trial.suggest_uniform(\"colsample_bytree\", 0.5, 1.0),\n",
    "    }\n",
    "\n",
    "    # 3.2.2 Create DMatrix\n",
    "    dtrain = xgb.DMatrix(X_train, label=y_train)\n",
    "    dvalid = xgb.DMatrix(X_valid, label=y_valid)\n",
    "\n",
    "    # 3.2.3 Train with pruning callback\n",
    "    pruning_callback = optuna.integration.XGBoostPruningCallback(\n",
    "        trial, \"validation-auc\"\n",
    "    )\n",
    "\n",
    "    bst = xgb.train(\n",
    "        params=param,\n",
    "        dtrain=dtrain,\n",
    "        num_boost_round=1000,\n",
    "        evals=[(dvalid, \"validation\")],\n",
    "        early_stopping_rounds=50,\n",
    "        callbacks=[pruning_callback],\n",
    "        verbose_eval=False\n",
    "    )\n",
    "\n",
    "    # 3.2.4 Evaluate\n",
    "    preds = bst.predict(dvalid)\n",
    "    auc = roc_auc_score(y_valid, preds)\n",
    "    return auc"
   ]
  },
  {
   "cell_type": "code",
   "execution_count": 12,
   "metadata": {},
   "outputs": [
    {
     "name": "stderr",
     "output_type": "stream",
     "text": [
      "[I 2025-06-27 07:53:19,432] A new study created in memory with name: no-name-07891832-6264-4311-86d1-9b233fca8b7d\n",
      "/var/folders/zs/q57jlw697vzcd20zv4v890wm0000gn/T/ipykernel_59165/3159156659.py:9: FutureWarning: suggest_loguniform has been deprecated in v3.0.0. This feature will be removed in v6.0.0. See https://github.com/optuna/optuna/releases/tag/v3.0.0. Use suggest_float(..., log=True) instead.\n",
      "  \"lambda\": trial.suggest_loguniform(\"lambda\", 1e-8, 10.0),\n",
      "/var/folders/zs/q57jlw697vzcd20zv4v890wm0000gn/T/ipykernel_59165/3159156659.py:10: FutureWarning: suggest_loguniform has been deprecated in v3.0.0. This feature will be removed in v6.0.0. See https://github.com/optuna/optuna/releases/tag/v3.0.0. Use suggest_float(..., log=True) instead.\n",
      "  \"alpha\": trial.suggest_loguniform(\"alpha\", 1e-8, 10.0),\n",
      "/var/folders/zs/q57jlw697vzcd20zv4v890wm0000gn/T/ipykernel_59165/3159156659.py:12: FutureWarning: suggest_loguniform has been deprecated in v3.0.0. This feature will be removed in v6.0.0. See https://github.com/optuna/optuna/releases/tag/v3.0.0. Use suggest_float(..., log=True) instead.\n",
      "  \"eta\": trial.suggest_loguniform(\"eta\", 1e-3, 0.3),\n",
      "/var/folders/zs/q57jlw697vzcd20zv4v890wm0000gn/T/ipykernel_59165/3159156659.py:13: FutureWarning: suggest_uniform has been deprecated in v3.0.0. This feature will be removed in v6.0.0. See https://github.com/optuna/optuna/releases/tag/v3.0.0. Use suggest_float instead.\n",
      "  \"subsample\": trial.suggest_uniform(\"subsample\", 0.5, 1.0),\n",
      "/var/folders/zs/q57jlw697vzcd20zv4v890wm0000gn/T/ipykernel_59165/3159156659.py:14: FutureWarning: suggest_uniform has been deprecated in v3.0.0. This feature will be removed in v6.0.0. See https://github.com/optuna/optuna/releases/tag/v3.0.0. Use suggest_float instead.\n",
      "  \"colsample_bytree\": trial.suggest_uniform(\"colsample_bytree\", 0.5, 1.0),\n",
      "[I 2025-06-27 07:53:19,632] Trial 0 finished with value: 0.9924664264657713 and parameters: {'booster': 'dart', 'lambda': 0.056028079951429666, 'alpha': 0.027968585420110256, 'max_depth': 10, 'eta': 0.045112587350101784, 'subsample': 0.5388769380666425, 'colsample_bytree': 0.8627364489306262}. Best is trial 0 with value: 0.9924664264657713.\n",
      "/var/folders/zs/q57jlw697vzcd20zv4v890wm0000gn/T/ipykernel_59165/3159156659.py:9: FutureWarning: suggest_loguniform has been deprecated in v3.0.0. This feature will be removed in v6.0.0. See https://github.com/optuna/optuna/releases/tag/v3.0.0. Use suggest_float(..., log=True) instead.\n",
      "  \"lambda\": trial.suggest_loguniform(\"lambda\", 1e-8, 10.0),\n",
      "/var/folders/zs/q57jlw697vzcd20zv4v890wm0000gn/T/ipykernel_59165/3159156659.py:10: FutureWarning: suggest_loguniform has been deprecated in v3.0.0. This feature will be removed in v6.0.0. See https://github.com/optuna/optuna/releases/tag/v3.0.0. Use suggest_float(..., log=True) instead.\n",
      "  \"alpha\": trial.suggest_loguniform(\"alpha\", 1e-8, 10.0),\n",
      "/var/folders/zs/q57jlw697vzcd20zv4v890wm0000gn/T/ipykernel_59165/3159156659.py:12: FutureWarning: suggest_loguniform has been deprecated in v3.0.0. This feature will be removed in v6.0.0. See https://github.com/optuna/optuna/releases/tag/v3.0.0. Use suggest_float(..., log=True) instead.\n",
      "  \"eta\": trial.suggest_loguniform(\"eta\", 1e-3, 0.3),\n",
      "/var/folders/zs/q57jlw697vzcd20zv4v890wm0000gn/T/ipykernel_59165/3159156659.py:13: FutureWarning: suggest_uniform has been deprecated in v3.0.0. This feature will be removed in v6.0.0. See https://github.com/optuna/optuna/releases/tag/v3.0.0. Use suggest_float instead.\n",
      "  \"subsample\": trial.suggest_uniform(\"subsample\", 0.5, 1.0),\n",
      "/var/folders/zs/q57jlw697vzcd20zv4v890wm0000gn/T/ipykernel_59165/3159156659.py:14: FutureWarning: suggest_uniform has been deprecated in v3.0.0. This feature will be removed in v6.0.0. See https://github.com/optuna/optuna/releases/tag/v3.0.0. Use suggest_float instead.\n",
      "  \"colsample_bytree\": trial.suggest_uniform(\"colsample_bytree\", 0.5, 1.0),\n",
      "[I 2025-06-27 07:53:19,699] Trial 1 finished with value: 0.9905011464133638 and parameters: {'booster': 'gbtree', 'lambda': 1.0516144563945273e-08, 'alpha': 2.8721215783495595e-08, 'max_depth': 8, 'eta': 0.19275661140668587, 'subsample': 0.9386746436393332, 'colsample_bytree': 0.8474103359817429}. Best is trial 0 with value: 0.9924664264657713.\n",
      "/var/folders/zs/q57jlw697vzcd20zv4v890wm0000gn/T/ipykernel_59165/3159156659.py:9: FutureWarning: suggest_loguniform has been deprecated in v3.0.0. This feature will be removed in v6.0.0. See https://github.com/optuna/optuna/releases/tag/v3.0.0. Use suggest_float(..., log=True) instead.\n",
      "  \"lambda\": trial.suggest_loguniform(\"lambda\", 1e-8, 10.0),\n",
      "/var/folders/zs/q57jlw697vzcd20zv4v890wm0000gn/T/ipykernel_59165/3159156659.py:10: FutureWarning: suggest_loguniform has been deprecated in v3.0.0. This feature will be removed in v6.0.0. See https://github.com/optuna/optuna/releases/tag/v3.0.0. Use suggest_float(..., log=True) instead.\n",
      "  \"alpha\": trial.suggest_loguniform(\"alpha\", 1e-8, 10.0),\n",
      "/var/folders/zs/q57jlw697vzcd20zv4v890wm0000gn/T/ipykernel_59165/3159156659.py:12: FutureWarning: suggest_loguniform has been deprecated in v3.0.0. This feature will be removed in v6.0.0. See https://github.com/optuna/optuna/releases/tag/v3.0.0. Use suggest_float(..., log=True) instead.\n",
      "  \"eta\": trial.suggest_loguniform(\"eta\", 1e-3, 0.3),\n",
      "/var/folders/zs/q57jlw697vzcd20zv4v890wm0000gn/T/ipykernel_59165/3159156659.py:13: FutureWarning: suggest_uniform has been deprecated in v3.0.0. This feature will be removed in v6.0.0. See https://github.com/optuna/optuna/releases/tag/v3.0.0. Use suggest_float instead.\n",
      "  \"subsample\": trial.suggest_uniform(\"subsample\", 0.5, 1.0),\n",
      "/var/folders/zs/q57jlw697vzcd20zv4v890wm0000gn/T/ipykernel_59165/3159156659.py:14: FutureWarning: suggest_uniform has been deprecated in v3.0.0. This feature will be removed in v6.0.0. See https://github.com/optuna/optuna/releases/tag/v3.0.0. Use suggest_float instead.\n",
      "  \"colsample_bytree\": trial.suggest_uniform(\"colsample_bytree\", 0.5, 1.0),\n",
      "[I 2025-06-27 07:53:20,037] Trial 2 finished with value: 0.9963969865705863 and parameters: {'booster': 'dart', 'lambda': 0.030016513210751383, 'alpha': 0.0004416238351538182, 'max_depth': 7, 'eta': 0.011582035179950339, 'subsample': 0.5629064392285591, 'colsample_bytree': 0.9577296082756428}. Best is trial 2 with value: 0.9963969865705863.\n",
      "/var/folders/zs/q57jlw697vzcd20zv4v890wm0000gn/T/ipykernel_59165/3159156659.py:9: FutureWarning: suggest_loguniform has been deprecated in v3.0.0. This feature will be removed in v6.0.0. See https://github.com/optuna/optuna/releases/tag/v3.0.0. Use suggest_float(..., log=True) instead.\n",
      "  \"lambda\": trial.suggest_loguniform(\"lambda\", 1e-8, 10.0),\n",
      "/var/folders/zs/q57jlw697vzcd20zv4v890wm0000gn/T/ipykernel_59165/3159156659.py:10: FutureWarning: suggest_loguniform has been deprecated in v3.0.0. This feature will be removed in v6.0.0. See https://github.com/optuna/optuna/releases/tag/v3.0.0. Use suggest_float(..., log=True) instead.\n",
      "  \"alpha\": trial.suggest_loguniform(\"alpha\", 1e-8, 10.0),\n",
      "/var/folders/zs/q57jlw697vzcd20zv4v890wm0000gn/T/ipykernel_59165/3159156659.py:12: FutureWarning: suggest_loguniform has been deprecated in v3.0.0. This feature will be removed in v6.0.0. See https://github.com/optuna/optuna/releases/tag/v3.0.0. Use suggest_float(..., log=True) instead.\n",
      "  \"eta\": trial.suggest_loguniform(\"eta\", 1e-3, 0.3),\n",
      "/var/folders/zs/q57jlw697vzcd20zv4v890wm0000gn/T/ipykernel_59165/3159156659.py:13: FutureWarning: suggest_uniform has been deprecated in v3.0.0. This feature will be removed in v6.0.0. See https://github.com/optuna/optuna/releases/tag/v3.0.0. Use suggest_float instead.\n",
      "  \"subsample\": trial.suggest_uniform(\"subsample\", 0.5, 1.0),\n",
      "/var/folders/zs/q57jlw697vzcd20zv4v890wm0000gn/T/ipykernel_59165/3159156659.py:14: FutureWarning: suggest_uniform has been deprecated in v3.0.0. This feature will be removed in v6.0.0. See https://github.com/optuna/optuna/releases/tag/v3.0.0. Use suggest_float instead.\n",
      "  \"colsample_bytree\": trial.suggest_uniform(\"colsample_bytree\", 0.5, 1.0),\n",
      "[I 2025-06-27 07:53:20,193] Trial 3 finished with value: 0.9911562397641663 and parameters: {'booster': 'dart', 'lambda': 0.0012373774652662522, 'alpha': 2.3581244453807814e-08, 'max_depth': 9, 'eta': 0.014088415259953666, 'subsample': 0.7382098352273123, 'colsample_bytree': 0.7415860293138532}. Best is trial 2 with value: 0.9963969865705863.\n",
      "/var/folders/zs/q57jlw697vzcd20zv4v890wm0000gn/T/ipykernel_59165/3159156659.py:9: FutureWarning: suggest_loguniform has been deprecated in v3.0.0. This feature will be removed in v6.0.0. See https://github.com/optuna/optuna/releases/tag/v3.0.0. Use suggest_float(..., log=True) instead.\n",
      "  \"lambda\": trial.suggest_loguniform(\"lambda\", 1e-8, 10.0),\n",
      "/var/folders/zs/q57jlw697vzcd20zv4v890wm0000gn/T/ipykernel_59165/3159156659.py:10: FutureWarning: suggest_loguniform has been deprecated in v3.0.0. This feature will be removed in v6.0.0. See https://github.com/optuna/optuna/releases/tag/v3.0.0. Use suggest_float(..., log=True) instead.\n",
      "  \"alpha\": trial.suggest_loguniform(\"alpha\", 1e-8, 10.0),\n",
      "/var/folders/zs/q57jlw697vzcd20zv4v890wm0000gn/T/ipykernel_59165/3159156659.py:12: FutureWarning: suggest_loguniform has been deprecated in v3.0.0. This feature will be removed in v6.0.0. See https://github.com/optuna/optuna/releases/tag/v3.0.0. Use suggest_float(..., log=True) instead.\n",
      "  \"eta\": trial.suggest_loguniform(\"eta\", 1e-3, 0.3),\n",
      "/var/folders/zs/q57jlw697vzcd20zv4v890wm0000gn/T/ipykernel_59165/3159156659.py:13: FutureWarning: suggest_uniform has been deprecated in v3.0.0. This feature will be removed in v6.0.0. See https://github.com/optuna/optuna/releases/tag/v3.0.0. Use suggest_float instead.\n",
      "  \"subsample\": trial.suggest_uniform(\"subsample\", 0.5, 1.0),\n",
      "/var/folders/zs/q57jlw697vzcd20zv4v890wm0000gn/T/ipykernel_59165/3159156659.py:14: FutureWarning: suggest_uniform has been deprecated in v3.0.0. This feature will be removed in v6.0.0. See https://github.com/optuna/optuna/releases/tag/v3.0.0. Use suggest_float instead.\n",
      "  \"colsample_bytree\": trial.suggest_uniform(\"colsample_bytree\", 0.5, 1.0),\n",
      "[I 2025-06-27 07:53:20,408] Trial 4 finished with value: 0.9937766131673764 and parameters: {'booster': 'dart', 'lambda': 0.00046151078477560723, 'alpha': 5.399630711912041, 'max_depth': 6, 'eta': 0.0010376004179469753, 'subsample': 0.560339210049289, 'colsample_bytree': 0.7229748443341321}. Best is trial 2 with value: 0.9963969865705863.\n",
      "/var/folders/zs/q57jlw697vzcd20zv4v890wm0000gn/T/ipykernel_59165/3159156659.py:9: FutureWarning: suggest_loguniform has been deprecated in v3.0.0. This feature will be removed in v6.0.0. See https://github.com/optuna/optuna/releases/tag/v3.0.0. Use suggest_float(..., log=True) instead.\n",
      "  \"lambda\": trial.suggest_loguniform(\"lambda\", 1e-8, 10.0),\n",
      "/var/folders/zs/q57jlw697vzcd20zv4v890wm0000gn/T/ipykernel_59165/3159156659.py:10: FutureWarning: suggest_loguniform has been deprecated in v3.0.0. This feature will be removed in v6.0.0. See https://github.com/optuna/optuna/releases/tag/v3.0.0. Use suggest_float(..., log=True) instead.\n",
      "  \"alpha\": trial.suggest_loguniform(\"alpha\", 1e-8, 10.0),\n",
      "/var/folders/zs/q57jlw697vzcd20zv4v890wm0000gn/T/ipykernel_59165/3159156659.py:12: FutureWarning: suggest_loguniform has been deprecated in v3.0.0. This feature will be removed in v6.0.0. See https://github.com/optuna/optuna/releases/tag/v3.0.0. Use suggest_float(..., log=True) instead.\n",
      "  \"eta\": trial.suggest_loguniform(\"eta\", 1e-3, 0.3),\n",
      "/var/folders/zs/q57jlw697vzcd20zv4v890wm0000gn/T/ipykernel_59165/3159156659.py:13: FutureWarning: suggest_uniform has been deprecated in v3.0.0. This feature will be removed in v6.0.0. See https://github.com/optuna/optuna/releases/tag/v3.0.0. Use suggest_float instead.\n",
      "  \"subsample\": trial.suggest_uniform(\"subsample\", 0.5, 1.0),\n",
      "/var/folders/zs/q57jlw697vzcd20zv4v890wm0000gn/T/ipykernel_59165/3159156659.py:14: FutureWarning: suggest_uniform has been deprecated in v3.0.0. This feature will be removed in v6.0.0. See https://github.com/optuna/optuna/releases/tag/v3.0.0. Use suggest_float instead.\n",
      "  \"colsample_bytree\": trial.suggest_uniform(\"colsample_bytree\", 0.5, 1.0),\n",
      "[I 2025-06-27 07:53:20,420] Trial 5 pruned. Trial was pruned at iteration 10.\n",
      "[I 2025-06-27 07:53:20,433] Trial 6 pruned. Trial was pruned at iteration 10.\n",
      "[I 2025-06-27 07:53:20,571] Trial 7 finished with value: 0.99475925319358 and parameters: {'booster': 'dart', 'lambda': 6.976122074696251e-05, 'alpha': 0.0006177872042432527, 'max_depth': 8, 'eta': 0.22172514854844408, 'subsample': 0.6910839242518989, 'colsample_bytree': 0.8108593680408318}. Best is trial 2 with value: 0.9963969865705863.\n",
      "/var/folders/zs/q57jlw697vzcd20zv4v890wm0000gn/T/ipykernel_59165/3159156659.py:9: FutureWarning: suggest_loguniform has been deprecated in v3.0.0. This feature will be removed in v6.0.0. See https://github.com/optuna/optuna/releases/tag/v3.0.0. Use suggest_float(..., log=True) instead.\n",
      "  \"lambda\": trial.suggest_loguniform(\"lambda\", 1e-8, 10.0),\n",
      "/var/folders/zs/q57jlw697vzcd20zv4v890wm0000gn/T/ipykernel_59165/3159156659.py:10: FutureWarning: suggest_loguniform has been deprecated in v3.0.0. This feature will be removed in v6.0.0. See https://github.com/optuna/optuna/releases/tag/v3.0.0. Use suggest_float(..., log=True) instead.\n",
      "  \"alpha\": trial.suggest_loguniform(\"alpha\", 1e-8, 10.0),\n",
      "/var/folders/zs/q57jlw697vzcd20zv4v890wm0000gn/T/ipykernel_59165/3159156659.py:12: FutureWarning: suggest_loguniform has been deprecated in v3.0.0. This feature will be removed in v6.0.0. See https://github.com/optuna/optuna/releases/tag/v3.0.0. Use suggest_float(..., log=True) instead.\n",
      "  \"eta\": trial.suggest_loguniform(\"eta\", 1e-3, 0.3),\n",
      "/var/folders/zs/q57jlw697vzcd20zv4v890wm0000gn/T/ipykernel_59165/3159156659.py:13: FutureWarning: suggest_uniform has been deprecated in v3.0.0. This feature will be removed in v6.0.0. See https://github.com/optuna/optuna/releases/tag/v3.0.0. Use suggest_float instead.\n",
      "  \"subsample\": trial.suggest_uniform(\"subsample\", 0.5, 1.0),\n",
      "/var/folders/zs/q57jlw697vzcd20zv4v890wm0000gn/T/ipykernel_59165/3159156659.py:14: FutureWarning: suggest_uniform has been deprecated in v3.0.0. This feature will be removed in v6.0.0. See https://github.com/optuna/optuna/releases/tag/v3.0.0. Use suggest_float instead.\n",
      "  \"colsample_bytree\": trial.suggest_uniform(\"colsample_bytree\", 0.5, 1.0),\n",
      "[I 2025-06-27 07:53:20,614] Trial 8 finished with value: 0.9944317065181788 and parameters: {'booster': 'gbtree', 'lambda': 0.3018174656456045, 'alpha': 6.489735914350419e-05, 'max_depth': 10, 'eta': 0.08446928887426018, 'subsample': 0.7307540622073891, 'colsample_bytree': 0.9137830504245765}. Best is trial 2 with value: 0.9963969865705863.\n",
      "/var/folders/zs/q57jlw697vzcd20zv4v890wm0000gn/T/ipykernel_59165/3159156659.py:9: FutureWarning: suggest_loguniform has been deprecated in v3.0.0. This feature will be removed in v6.0.0. See https://github.com/optuna/optuna/releases/tag/v3.0.0. Use suggest_float(..., log=True) instead.\n",
      "  \"lambda\": trial.suggest_loguniform(\"lambda\", 1e-8, 10.0),\n",
      "/var/folders/zs/q57jlw697vzcd20zv4v890wm0000gn/T/ipykernel_59165/3159156659.py:10: FutureWarning: suggest_loguniform has been deprecated in v3.0.0. This feature will be removed in v6.0.0. See https://github.com/optuna/optuna/releases/tag/v3.0.0. Use suggest_float(..., log=True) instead.\n",
      "  \"alpha\": trial.suggest_loguniform(\"alpha\", 1e-8, 10.0),\n",
      "/var/folders/zs/q57jlw697vzcd20zv4v890wm0000gn/T/ipykernel_59165/3159156659.py:12: FutureWarning: suggest_loguniform has been deprecated in v3.0.0. This feature will be removed in v6.0.0. See https://github.com/optuna/optuna/releases/tag/v3.0.0. Use suggest_float(..., log=True) instead.\n",
      "  \"eta\": trial.suggest_loguniform(\"eta\", 1e-3, 0.3),\n",
      "/var/folders/zs/q57jlw697vzcd20zv4v890wm0000gn/T/ipykernel_59165/3159156659.py:13: FutureWarning: suggest_uniform has been deprecated in v3.0.0. This feature will be removed in v6.0.0. See https://github.com/optuna/optuna/releases/tag/v3.0.0. Use suggest_float instead.\n",
      "  \"subsample\": trial.suggest_uniform(\"subsample\", 0.5, 1.0),\n",
      "/var/folders/zs/q57jlw697vzcd20zv4v890wm0000gn/T/ipykernel_59165/3159156659.py:14: FutureWarning: suggest_uniform has been deprecated in v3.0.0. This feature will be removed in v6.0.0. See https://github.com/optuna/optuna/releases/tag/v3.0.0. Use suggest_float instead.\n",
      "  \"colsample_bytree\": trial.suggest_uniform(\"colsample_bytree\", 0.5, 1.0),\n",
      "[I 2025-06-27 07:53:20,623] Trial 9 pruned. Trial was pruned at iteration 10.\n",
      "[I 2025-06-27 07:53:20,873] Trial 10 finished with value: 0.9950867998689813 and parameters: {'booster': 'dart', 'lambda': 9.913003758825149e-07, 'alpha': 1.0714749738100485e-06, 'max_depth': 4, 'eta': 0.0031137969983108076, 'subsample': 0.6334519259299469, 'colsample_bytree': 0.5011368338350521}. Best is trial 2 with value: 0.9963969865705863.\n",
      "/var/folders/zs/q57jlw697vzcd20zv4v890wm0000gn/T/ipykernel_59165/3159156659.py:9: FutureWarning: suggest_loguniform has been deprecated in v3.0.0. This feature will be removed in v6.0.0. See https://github.com/optuna/optuna/releases/tag/v3.0.0. Use suggest_float(..., log=True) instead.\n",
      "  \"lambda\": trial.suggest_loguniform(\"lambda\", 1e-8, 10.0),\n",
      "/var/folders/zs/q57jlw697vzcd20zv4v890wm0000gn/T/ipykernel_59165/3159156659.py:10: FutureWarning: suggest_loguniform has been deprecated in v3.0.0. This feature will be removed in v6.0.0. See https://github.com/optuna/optuna/releases/tag/v3.0.0. Use suggest_float(..., log=True) instead.\n",
      "  \"alpha\": trial.suggest_loguniform(\"alpha\", 1e-8, 10.0),\n",
      "/var/folders/zs/q57jlw697vzcd20zv4v890wm0000gn/T/ipykernel_59165/3159156659.py:12: FutureWarning: suggest_loguniform has been deprecated in v3.0.0. This feature will be removed in v6.0.0. See https://github.com/optuna/optuna/releases/tag/v3.0.0. Use suggest_float(..., log=True) instead.\n",
      "  \"eta\": trial.suggest_loguniform(\"eta\", 1e-3, 0.3),\n",
      "/var/folders/zs/q57jlw697vzcd20zv4v890wm0000gn/T/ipykernel_59165/3159156659.py:13: FutureWarning: suggest_uniform has been deprecated in v3.0.0. This feature will be removed in v6.0.0. See https://github.com/optuna/optuna/releases/tag/v3.0.0. Use suggest_float instead.\n",
      "  \"subsample\": trial.suggest_uniform(\"subsample\", 0.5, 1.0),\n",
      "/var/folders/zs/q57jlw697vzcd20zv4v890wm0000gn/T/ipykernel_59165/3159156659.py:14: FutureWarning: suggest_uniform has been deprecated in v3.0.0. This feature will be removed in v6.0.0. See https://github.com/optuna/optuna/releases/tag/v3.0.0. Use suggest_float instead.\n",
      "  \"colsample_bytree\": trial.suggest_uniform(\"colsample_bytree\", 0.5, 1.0),\n",
      "[I 2025-06-27 07:53:20,893] Trial 11 pruned. Trial was pruned at iteration 10.\n",
      "[I 2025-06-27 07:53:20,917] Trial 12 pruned. Trial was pruned at iteration 10.\n",
      "[I 2025-06-27 07:53:21,159] Trial 13 finished with value: 0.9921388797903702 and parameters: {'booster': 'dart', 'lambda': 0.0048696607436937885, 'alpha': 0.0033447380333577114, 'max_depth': 5, 'eta': 0.01848764707313018, 'subsample': 0.8039346756549919, 'colsample_bytree': 0.5208073019460183}. Best is trial 2 with value: 0.9963969865705863.\n",
      "/var/folders/zs/q57jlw697vzcd20zv4v890wm0000gn/T/ipykernel_59165/3159156659.py:9: FutureWarning: suggest_loguniform has been deprecated in v3.0.0. This feature will be removed in v6.0.0. See https://github.com/optuna/optuna/releases/tag/v3.0.0. Use suggest_float(..., log=True) instead.\n",
      "  \"lambda\": trial.suggest_loguniform(\"lambda\", 1e-8, 10.0),\n",
      "/var/folders/zs/q57jlw697vzcd20zv4v890wm0000gn/T/ipykernel_59165/3159156659.py:10: FutureWarning: suggest_loguniform has been deprecated in v3.0.0. This feature will be removed in v6.0.0. See https://github.com/optuna/optuna/releases/tag/v3.0.0. Use suggest_float(..., log=True) instead.\n",
      "  \"alpha\": trial.suggest_loguniform(\"alpha\", 1e-8, 10.0),\n",
      "/var/folders/zs/q57jlw697vzcd20zv4v890wm0000gn/T/ipykernel_59165/3159156659.py:12: FutureWarning: suggest_loguniform has been deprecated in v3.0.0. This feature will be removed in v6.0.0. See https://github.com/optuna/optuna/releases/tag/v3.0.0. Use suggest_float(..., log=True) instead.\n",
      "  \"eta\": trial.suggest_loguniform(\"eta\", 1e-3, 0.3),\n",
      "/var/folders/zs/q57jlw697vzcd20zv4v890wm0000gn/T/ipykernel_59165/3159156659.py:13: FutureWarning: suggest_uniform has been deprecated in v3.0.0. This feature will be removed in v6.0.0. See https://github.com/optuna/optuna/releases/tag/v3.0.0. Use suggest_float instead.\n",
      "  \"subsample\": trial.suggest_uniform(\"subsample\", 0.5, 1.0),\n",
      "/var/folders/zs/q57jlw697vzcd20zv4v890wm0000gn/T/ipykernel_59165/3159156659.py:14: FutureWarning: suggest_uniform has been deprecated in v3.0.0. This feature will be removed in v6.0.0. See https://github.com/optuna/optuna/releases/tag/v3.0.0. Use suggest_float instead.\n",
      "  \"colsample_bytree\": trial.suggest_uniform(\"colsample_bytree\", 0.5, 1.0),\n",
      "[I 2025-06-27 07:53:21,552] Trial 14 finished with value: 0.9954143465443825 and parameters: {'booster': 'dart', 'lambda': 1.3940947443972086e-06, 'alpha': 0.4804290776018415, 'max_depth': 4, 'eta': 0.001835808295464798, 'subsample': 0.6200836843593571, 'colsample_bytree': 0.6151723480835891}. Best is trial 2 with value: 0.9963969865705863.\n",
      "/var/folders/zs/q57jlw697vzcd20zv4v890wm0000gn/T/ipykernel_59165/3159156659.py:9: FutureWarning: suggest_loguniform has been deprecated in v3.0.0. This feature will be removed in v6.0.0. See https://github.com/optuna/optuna/releases/tag/v3.0.0. Use suggest_float(..., log=True) instead.\n",
      "  \"lambda\": trial.suggest_loguniform(\"lambda\", 1e-8, 10.0),\n",
      "/var/folders/zs/q57jlw697vzcd20zv4v890wm0000gn/T/ipykernel_59165/3159156659.py:10: FutureWarning: suggest_loguniform has been deprecated in v3.0.0. This feature will be removed in v6.0.0. See https://github.com/optuna/optuna/releases/tag/v3.0.0. Use suggest_float(..., log=True) instead.\n",
      "  \"alpha\": trial.suggest_loguniform(\"alpha\", 1e-8, 10.0),\n",
      "/var/folders/zs/q57jlw697vzcd20zv4v890wm0000gn/T/ipykernel_59165/3159156659.py:12: FutureWarning: suggest_loguniform has been deprecated in v3.0.0. This feature will be removed in v6.0.0. See https://github.com/optuna/optuna/releases/tag/v3.0.0. Use suggest_float(..., log=True) instead.\n",
      "  \"eta\": trial.suggest_loguniform(\"eta\", 1e-3, 0.3),\n",
      "/var/folders/zs/q57jlw697vzcd20zv4v890wm0000gn/T/ipykernel_59165/3159156659.py:13: FutureWarning: suggest_uniform has been deprecated in v3.0.0. This feature will be removed in v6.0.0. See https://github.com/optuna/optuna/releases/tag/v3.0.0. Use suggest_float instead.\n",
      "  \"subsample\": trial.suggest_uniform(\"subsample\", 0.5, 1.0),\n",
      "/var/folders/zs/q57jlw697vzcd20zv4v890wm0000gn/T/ipykernel_59165/3159156659.py:14: FutureWarning: suggest_uniform has been deprecated in v3.0.0. This feature will be removed in v6.0.0. See https://github.com/optuna/optuna/releases/tag/v3.0.0. Use suggest_float instead.\n",
      "  \"colsample_bytree\": trial.suggest_uniform(\"colsample_bytree\", 0.5, 1.0),\n",
      "[I 2025-06-27 07:53:21,572] Trial 15 pruned. Trial was pruned at iteration 10.\n",
      "[I 2025-06-27 07:53:21,717] Trial 16 finished with value: 0.9967245332459875 and parameters: {'booster': 'dart', 'lambda': 0.005477167157542201, 'alpha': 0.19572917416941146, 'max_depth': 5, 'eta': 0.01755479812434271, 'subsample': 0.5854720075490437, 'colsample_bytree': 0.6163466899768297}. Best is trial 16 with value: 0.9967245332459875.\n",
      "/var/folders/zs/q57jlw697vzcd20zv4v890wm0000gn/T/ipykernel_59165/3159156659.py:9: FutureWarning: suggest_loguniform has been deprecated in v3.0.0. This feature will be removed in v6.0.0. See https://github.com/optuna/optuna/releases/tag/v3.0.0. Use suggest_float(..., log=True) instead.\n",
      "  \"lambda\": trial.suggest_loguniform(\"lambda\", 1e-8, 10.0),\n",
      "/var/folders/zs/q57jlw697vzcd20zv4v890wm0000gn/T/ipykernel_59165/3159156659.py:10: FutureWarning: suggest_loguniform has been deprecated in v3.0.0. This feature will be removed in v6.0.0. See https://github.com/optuna/optuna/releases/tag/v3.0.0. Use suggest_float(..., log=True) instead.\n",
      "  \"alpha\": trial.suggest_loguniform(\"alpha\", 1e-8, 10.0),\n",
      "/var/folders/zs/q57jlw697vzcd20zv4v890wm0000gn/T/ipykernel_59165/3159156659.py:12: FutureWarning: suggest_loguniform has been deprecated in v3.0.0. This feature will be removed in v6.0.0. See https://github.com/optuna/optuna/releases/tag/v3.0.0. Use suggest_float(..., log=True) instead.\n",
      "  \"eta\": trial.suggest_loguniform(\"eta\", 1e-3, 0.3),\n",
      "/var/folders/zs/q57jlw697vzcd20zv4v890wm0000gn/T/ipykernel_59165/3159156659.py:13: FutureWarning: suggest_uniform has been deprecated in v3.0.0. This feature will be removed in v6.0.0. See https://github.com/optuna/optuna/releases/tag/v3.0.0. Use suggest_float instead.\n",
      "  \"subsample\": trial.suggest_uniform(\"subsample\", 0.5, 1.0),\n",
      "/var/folders/zs/q57jlw697vzcd20zv4v890wm0000gn/T/ipykernel_59165/3159156659.py:14: FutureWarning: suggest_uniform has been deprecated in v3.0.0. This feature will be removed in v6.0.0. See https://github.com/optuna/optuna/releases/tag/v3.0.0. Use suggest_float instead.\n",
      "  \"colsample_bytree\": trial.suggest_uniform(\"colsample_bytree\", 0.5, 1.0),\n",
      "[I 2025-06-27 07:53:21,739] Trial 17 pruned. Trial was pruned at iteration 10.\n",
      "[I 2025-06-27 07:53:21,756] Trial 18 pruned. Trial was pruned at iteration 10.\n",
      "[I 2025-06-27 07:53:21,775] Trial 19 pruned. Trial was pruned at iteration 10.\n",
      "[I 2025-06-27 07:53:21,925] Trial 20 finished with value: 0.9931215198165738 and parameters: {'booster': 'dart', 'lambda': 0.008281129275146565, 'alpha': 2.4824692666304297e-05, 'max_depth': 5, 'eta': 0.041009823668808586, 'subsample': 0.8157386553210509, 'colsample_bytree': 0.9286992166522602}. Best is trial 16 with value: 0.9967245332459875.\n",
      "/var/folders/zs/q57jlw697vzcd20zv4v890wm0000gn/T/ipykernel_59165/3159156659.py:9: FutureWarning: suggest_loguniform has been deprecated in v3.0.0. This feature will be removed in v6.0.0. See https://github.com/optuna/optuna/releases/tag/v3.0.0. Use suggest_float(..., log=True) instead.\n",
      "  \"lambda\": trial.suggest_loguniform(\"lambda\", 1e-8, 10.0),\n",
      "/var/folders/zs/q57jlw697vzcd20zv4v890wm0000gn/T/ipykernel_59165/3159156659.py:10: FutureWarning: suggest_loguniform has been deprecated in v3.0.0. This feature will be removed in v6.0.0. See https://github.com/optuna/optuna/releases/tag/v3.0.0. Use suggest_float(..., log=True) instead.\n",
      "  \"alpha\": trial.suggest_loguniform(\"alpha\", 1e-8, 10.0),\n",
      "/var/folders/zs/q57jlw697vzcd20zv4v890wm0000gn/T/ipykernel_59165/3159156659.py:12: FutureWarning: suggest_loguniform has been deprecated in v3.0.0. This feature will be removed in v6.0.0. See https://github.com/optuna/optuna/releases/tag/v3.0.0. Use suggest_float(..., log=True) instead.\n",
      "  \"eta\": trial.suggest_loguniform(\"eta\", 1e-3, 0.3),\n",
      "/var/folders/zs/q57jlw697vzcd20zv4v890wm0000gn/T/ipykernel_59165/3159156659.py:13: FutureWarning: suggest_uniform has been deprecated in v3.0.0. This feature will be removed in v6.0.0. See https://github.com/optuna/optuna/releases/tag/v3.0.0. Use suggest_float instead.\n",
      "  \"subsample\": trial.suggest_uniform(\"subsample\", 0.5, 1.0),\n",
      "/var/folders/zs/q57jlw697vzcd20zv4v890wm0000gn/T/ipykernel_59165/3159156659.py:14: FutureWarning: suggest_uniform has been deprecated in v3.0.0. This feature will be removed in v6.0.0. See https://github.com/optuna/optuna/releases/tag/v3.0.0. Use suggest_float instead.\n",
      "  \"colsample_bytree\": trial.suggest_uniform(\"colsample_bytree\", 0.5, 1.0),\n",
      "[I 2025-06-27 07:53:21,943] Trial 21 pruned. Trial was pruned at iteration 10.\n",
      "[I 2025-06-27 07:53:22,159] Trial 22 finished with value: 0.996069439895185 and parameters: {'booster': 'dart', 'lambda': 0.0001210816471945055, 'alpha': 0.4498217351977128, 'max_depth': 4, 'eta': 0.02404669240467356, 'subsample': 0.6009068972910468, 'colsample_bytree': 0.6592035416639537}. Best is trial 16 with value: 0.9967245332459875.\n",
      "/var/folders/zs/q57jlw697vzcd20zv4v890wm0000gn/T/ipykernel_59165/3159156659.py:9: FutureWarning: suggest_loguniform has been deprecated in v3.0.0. This feature will be removed in v6.0.0. See https://github.com/optuna/optuna/releases/tag/v3.0.0. Use suggest_float(..., log=True) instead.\n",
      "  \"lambda\": trial.suggest_loguniform(\"lambda\", 1e-8, 10.0),\n",
      "/var/folders/zs/q57jlw697vzcd20zv4v890wm0000gn/T/ipykernel_59165/3159156659.py:10: FutureWarning: suggest_loguniform has been deprecated in v3.0.0. This feature will be removed in v6.0.0. See https://github.com/optuna/optuna/releases/tag/v3.0.0. Use suggest_float(..., log=True) instead.\n",
      "  \"alpha\": trial.suggest_loguniform(\"alpha\", 1e-8, 10.0),\n",
      "/var/folders/zs/q57jlw697vzcd20zv4v890wm0000gn/T/ipykernel_59165/3159156659.py:12: FutureWarning: suggest_loguniform has been deprecated in v3.0.0. This feature will be removed in v6.0.0. See https://github.com/optuna/optuna/releases/tag/v3.0.0. Use suggest_float(..., log=True) instead.\n",
      "  \"eta\": trial.suggest_loguniform(\"eta\", 1e-3, 0.3),\n",
      "/var/folders/zs/q57jlw697vzcd20zv4v890wm0000gn/T/ipykernel_59165/3159156659.py:13: FutureWarning: suggest_uniform has been deprecated in v3.0.0. This feature will be removed in v6.0.0. See https://github.com/optuna/optuna/releases/tag/v3.0.0. Use suggest_float instead.\n",
      "  \"subsample\": trial.suggest_uniform(\"subsample\", 0.5, 1.0),\n",
      "/var/folders/zs/q57jlw697vzcd20zv4v890wm0000gn/T/ipykernel_59165/3159156659.py:14: FutureWarning: suggest_uniform has been deprecated in v3.0.0. This feature will be removed in v6.0.0. See https://github.com/optuna/optuna/releases/tag/v3.0.0. Use suggest_float instead.\n",
      "  \"colsample_bytree\": trial.suggest_uniform(\"colsample_bytree\", 0.5, 1.0),\n",
      "[I 2025-06-27 07:53:22,183] Trial 23 pruned. Trial was pruned at iteration 10.\n",
      "[I 2025-06-27 07:53:22,446] Trial 24 finished with value: 0.9963969865705863 and parameters: {'booster': 'dart', 'lambda': 0.0017397479479930333, 'alpha': 0.1009821770877161, 'max_depth': 4, 'eta': 0.009178573346633464, 'subsample': 0.5778476233658685, 'colsample_bytree': 0.558317103185298}. Best is trial 16 with value: 0.9967245332459875.\n",
      "/var/folders/zs/q57jlw697vzcd20zv4v890wm0000gn/T/ipykernel_59165/3159156659.py:9: FutureWarning: suggest_loguniform has been deprecated in v3.0.0. This feature will be removed in v6.0.0. See https://github.com/optuna/optuna/releases/tag/v3.0.0. Use suggest_float(..., log=True) instead.\n",
      "  \"lambda\": trial.suggest_loguniform(\"lambda\", 1e-8, 10.0),\n",
      "/var/folders/zs/q57jlw697vzcd20zv4v890wm0000gn/T/ipykernel_59165/3159156659.py:10: FutureWarning: suggest_loguniform has been deprecated in v3.0.0. This feature will be removed in v6.0.0. See https://github.com/optuna/optuna/releases/tag/v3.0.0. Use suggest_float(..., log=True) instead.\n",
      "  \"alpha\": trial.suggest_loguniform(\"alpha\", 1e-8, 10.0),\n",
      "/var/folders/zs/q57jlw697vzcd20zv4v890wm0000gn/T/ipykernel_59165/3159156659.py:12: FutureWarning: suggest_loguniform has been deprecated in v3.0.0. This feature will be removed in v6.0.0. See https://github.com/optuna/optuna/releases/tag/v3.0.0. Use suggest_float(..., log=True) instead.\n",
      "  \"eta\": trial.suggest_loguniform(\"eta\", 1e-3, 0.3),\n",
      "/var/folders/zs/q57jlw697vzcd20zv4v890wm0000gn/T/ipykernel_59165/3159156659.py:13: FutureWarning: suggest_uniform has been deprecated in v3.0.0. This feature will be removed in v6.0.0. See https://github.com/optuna/optuna/releases/tag/v3.0.0. Use suggest_float instead.\n",
      "  \"subsample\": trial.suggest_uniform(\"subsample\", 0.5, 1.0),\n",
      "/var/folders/zs/q57jlw697vzcd20zv4v890wm0000gn/T/ipykernel_59165/3159156659.py:14: FutureWarning: suggest_uniform has been deprecated in v3.0.0. This feature will be removed in v6.0.0. See https://github.com/optuna/optuna/releases/tag/v3.0.0. Use suggest_float instead.\n",
      "  \"colsample_bytree\": trial.suggest_uniform(\"colsample_bytree\", 0.5, 1.0),\n",
      "[I 2025-06-27 07:53:22,714] Trial 25 finished with value: 0.9967245332459875 and parameters: {'booster': 'dart', 'lambda': 0.0016234674762786346, 'alpha': 0.05674995581477314, 'max_depth': 5, 'eta': 0.010018334672733343, 'subsample': 0.5006396769835195, 'colsample_bytree': 0.5777865547517336}. Best is trial 16 with value: 0.9967245332459875.\n",
      "/var/folders/zs/q57jlw697vzcd20zv4v890wm0000gn/T/ipykernel_59165/3159156659.py:9: FutureWarning: suggest_loguniform has been deprecated in v3.0.0. This feature will be removed in v6.0.0. See https://github.com/optuna/optuna/releases/tag/v3.0.0. Use suggest_float(..., log=True) instead.\n",
      "  \"lambda\": trial.suggest_loguniform(\"lambda\", 1e-8, 10.0),\n",
      "/var/folders/zs/q57jlw697vzcd20zv4v890wm0000gn/T/ipykernel_59165/3159156659.py:10: FutureWarning: suggest_loguniform has been deprecated in v3.0.0. This feature will be removed in v6.0.0. See https://github.com/optuna/optuna/releases/tag/v3.0.0. Use suggest_float(..., log=True) instead.\n",
      "  \"alpha\": trial.suggest_loguniform(\"alpha\", 1e-8, 10.0),\n",
      "/var/folders/zs/q57jlw697vzcd20zv4v890wm0000gn/T/ipykernel_59165/3159156659.py:12: FutureWarning: suggest_loguniform has been deprecated in v3.0.0. This feature will be removed in v6.0.0. See https://github.com/optuna/optuna/releases/tag/v3.0.0. Use suggest_float(..., log=True) instead.\n",
      "  \"eta\": trial.suggest_loguniform(\"eta\", 1e-3, 0.3),\n",
      "/var/folders/zs/q57jlw697vzcd20zv4v890wm0000gn/T/ipykernel_59165/3159156659.py:13: FutureWarning: suggest_uniform has been deprecated in v3.0.0. This feature will be removed in v6.0.0. See https://github.com/optuna/optuna/releases/tag/v3.0.0. Use suggest_float instead.\n",
      "  \"subsample\": trial.suggest_uniform(\"subsample\", 0.5, 1.0),\n",
      "/var/folders/zs/q57jlw697vzcd20zv4v890wm0000gn/T/ipykernel_59165/3159156659.py:14: FutureWarning: suggest_uniform has been deprecated in v3.0.0. This feature will be removed in v6.0.0. See https://github.com/optuna/optuna/releases/tag/v3.0.0. Use suggest_float instead.\n",
      "  \"colsample_bytree\": trial.suggest_uniform(\"colsample_bytree\", 0.5, 1.0),\n",
      "[I 2025-06-27 07:53:22,734] Trial 26 pruned. Trial was pruned at iteration 10.\n",
      "[I 2025-06-27 07:53:23,047] Trial 27 finished with value: 0.9954143465443825 and parameters: {'booster': 'dart', 'lambda': 0.646449547838023, 'alpha': 0.04420213559251294, 'max_depth': 5, 'eta': 0.011742613103956773, 'subsample': 0.550501854384406, 'colsample_bytree': 0.788621453039354}. Best is trial 16 with value: 0.9967245332459875.\n",
      "/var/folders/zs/q57jlw697vzcd20zv4v890wm0000gn/T/ipykernel_59165/3159156659.py:9: FutureWarning: suggest_loguniform has been deprecated in v3.0.0. This feature will be removed in v6.0.0. See https://github.com/optuna/optuna/releases/tag/v3.0.0. Use suggest_float(..., log=True) instead.\n",
      "  \"lambda\": trial.suggest_loguniform(\"lambda\", 1e-8, 10.0),\n",
      "/var/folders/zs/q57jlw697vzcd20zv4v890wm0000gn/T/ipykernel_59165/3159156659.py:10: FutureWarning: suggest_loguniform has been deprecated in v3.0.0. This feature will be removed in v6.0.0. See https://github.com/optuna/optuna/releases/tag/v3.0.0. Use suggest_float(..., log=True) instead.\n",
      "  \"alpha\": trial.suggest_loguniform(\"alpha\", 1e-8, 10.0),\n",
      "/var/folders/zs/q57jlw697vzcd20zv4v890wm0000gn/T/ipykernel_59165/3159156659.py:12: FutureWarning: suggest_loguniform has been deprecated in v3.0.0. This feature will be removed in v6.0.0. See https://github.com/optuna/optuna/releases/tag/v3.0.0. Use suggest_float(..., log=True) instead.\n",
      "  \"eta\": trial.suggest_loguniform(\"eta\", 1e-3, 0.3),\n",
      "/var/folders/zs/q57jlw697vzcd20zv4v890wm0000gn/T/ipykernel_59165/3159156659.py:13: FutureWarning: suggest_uniform has been deprecated in v3.0.0. This feature will be removed in v6.0.0. See https://github.com/optuna/optuna/releases/tag/v3.0.0. Use suggest_float instead.\n",
      "  \"subsample\": trial.suggest_uniform(\"subsample\", 0.5, 1.0),\n",
      "/var/folders/zs/q57jlw697vzcd20zv4v890wm0000gn/T/ipykernel_59165/3159156659.py:14: FutureWarning: suggest_uniform has been deprecated in v3.0.0. This feature will be removed in v6.0.0. See https://github.com/optuna/optuna/releases/tag/v3.0.0. Use suggest_float instead.\n",
      "  \"colsample_bytree\": trial.suggest_uniform(\"colsample_bytree\", 0.5, 1.0),\n",
      "[I 2025-06-27 07:53:23,204] Trial 28 finished with value: 0.996069439895185 and parameters: {'booster': 'dart', 'lambda': 0.0011468517359342653, 'alpha': 0.0030436747730707334, 'max_depth': 9, 'eta': 0.08284987062321002, 'subsample': 0.6579431187845937, 'colsample_bytree': 0.559652352487125}. Best is trial 16 with value: 0.9967245332459875.\n",
      "/var/folders/zs/q57jlw697vzcd20zv4v890wm0000gn/T/ipykernel_59165/3159156659.py:9: FutureWarning: suggest_loguniform has been deprecated in v3.0.0. This feature will be removed in v6.0.0. See https://github.com/optuna/optuna/releases/tag/v3.0.0. Use suggest_float(..., log=True) instead.\n",
      "  \"lambda\": trial.suggest_loguniform(\"lambda\", 1e-8, 10.0),\n",
      "/var/folders/zs/q57jlw697vzcd20zv4v890wm0000gn/T/ipykernel_59165/3159156659.py:10: FutureWarning: suggest_loguniform has been deprecated in v3.0.0. This feature will be removed in v6.0.0. See https://github.com/optuna/optuna/releases/tag/v3.0.0. Use suggest_float(..., log=True) instead.\n",
      "  \"alpha\": trial.suggest_loguniform(\"alpha\", 1e-8, 10.0),\n",
      "/var/folders/zs/q57jlw697vzcd20zv4v890wm0000gn/T/ipykernel_59165/3159156659.py:12: FutureWarning: suggest_loguniform has been deprecated in v3.0.0. This feature will be removed in v6.0.0. See https://github.com/optuna/optuna/releases/tag/v3.0.0. Use suggest_float(..., log=True) instead.\n",
      "  \"eta\": trial.suggest_loguniform(\"eta\", 1e-3, 0.3),\n",
      "/var/folders/zs/q57jlw697vzcd20zv4v890wm0000gn/T/ipykernel_59165/3159156659.py:13: FutureWarning: suggest_uniform has been deprecated in v3.0.0. This feature will be removed in v6.0.0. See https://github.com/optuna/optuna/releases/tag/v3.0.0. Use suggest_float instead.\n",
      "  \"subsample\": trial.suggest_uniform(\"subsample\", 0.5, 1.0),\n",
      "/var/folders/zs/q57jlw697vzcd20zv4v890wm0000gn/T/ipykernel_59165/3159156659.py:14: FutureWarning: suggest_uniform has been deprecated in v3.0.0. This feature will be removed in v6.0.0. See https://github.com/optuna/optuna/releases/tag/v3.0.0. Use suggest_float instead.\n",
      "  \"colsample_bytree\": trial.suggest_uniform(\"colsample_bytree\", 0.5, 1.0),\n",
      "[I 2025-06-27 07:53:23,224] Trial 29 pruned. Trial was pruned at iteration 10.\n",
      "[I 2025-06-27 07:53:23,249] Trial 30 pruned. Trial was pruned at iteration 10.\n",
      "[I 2025-06-27 07:53:23,270] Trial 31 pruned. Trial was pruned at iteration 10.\n",
      "[I 2025-06-27 07:53:23,666] Trial 32 finished with value: 0.996069439895185 and parameters: {'booster': 'dart', 'lambda': 0.02230557865625564, 'alpha': 1.5965055922488047, 'max_depth': 5, 'eta': 0.006396326473049207, 'subsample': 0.5034728773882975, 'colsample_bytree': 0.5792653931281865}. Best is trial 16 with value: 0.9967245332459875.\n",
      "/var/folders/zs/q57jlw697vzcd20zv4v890wm0000gn/T/ipykernel_59165/3159156659.py:9: FutureWarning: suggest_loguniform has been deprecated in v3.0.0. This feature will be removed in v6.0.0. See https://github.com/optuna/optuna/releases/tag/v3.0.0. Use suggest_float(..., log=True) instead.\n",
      "  \"lambda\": trial.suggest_loguniform(\"lambda\", 1e-8, 10.0),\n",
      "/var/folders/zs/q57jlw697vzcd20zv4v890wm0000gn/T/ipykernel_59165/3159156659.py:10: FutureWarning: suggest_loguniform has been deprecated in v3.0.0. This feature will be removed in v6.0.0. See https://github.com/optuna/optuna/releases/tag/v3.0.0. Use suggest_float(..., log=True) instead.\n",
      "  \"alpha\": trial.suggest_loguniform(\"alpha\", 1e-8, 10.0),\n",
      "/var/folders/zs/q57jlw697vzcd20zv4v890wm0000gn/T/ipykernel_59165/3159156659.py:12: FutureWarning: suggest_loguniform has been deprecated in v3.0.0. This feature will be removed in v6.0.0. See https://github.com/optuna/optuna/releases/tag/v3.0.0. Use suggest_float(..., log=True) instead.\n",
      "  \"eta\": trial.suggest_loguniform(\"eta\", 1e-3, 0.3),\n",
      "/var/folders/zs/q57jlw697vzcd20zv4v890wm0000gn/T/ipykernel_59165/3159156659.py:13: FutureWarning: suggest_uniform has been deprecated in v3.0.0. This feature will be removed in v6.0.0. See https://github.com/optuna/optuna/releases/tag/v3.0.0. Use suggest_float instead.\n",
      "  \"subsample\": trial.suggest_uniform(\"subsample\", 0.5, 1.0),\n",
      "/var/folders/zs/q57jlw697vzcd20zv4v890wm0000gn/T/ipykernel_59165/3159156659.py:14: FutureWarning: suggest_uniform has been deprecated in v3.0.0. This feature will be removed in v6.0.0. See https://github.com/optuna/optuna/releases/tag/v3.0.0. Use suggest_float instead.\n",
      "  \"colsample_bytree\": trial.suggest_uniform(\"colsample_bytree\", 0.5, 1.0),\n",
      "[I 2025-06-27 07:53:23,688] Trial 33 pruned. Trial was pruned at iteration 10.\n",
      "[I 2025-06-27 07:53:23,855] Trial 34 finished with value: 0.9967245332459875 and parameters: {'booster': 'dart', 'lambda': 0.0016714060326962776, 'alpha': 0.005687662615298168, 'max_depth': 9, 'eta': 0.01415217774216022, 'subsample': 0.562388228400262, 'colsample_bytree': 0.5396061058993116}. Best is trial 16 with value: 0.9967245332459875.\n",
      "/var/folders/zs/q57jlw697vzcd20zv4v890wm0000gn/T/ipykernel_59165/3159156659.py:9: FutureWarning: suggest_loguniform has been deprecated in v3.0.0. This feature will be removed in v6.0.0. See https://github.com/optuna/optuna/releases/tag/v3.0.0. Use suggest_float(..., log=True) instead.\n",
      "  \"lambda\": trial.suggest_loguniform(\"lambda\", 1e-8, 10.0),\n",
      "/var/folders/zs/q57jlw697vzcd20zv4v890wm0000gn/T/ipykernel_59165/3159156659.py:10: FutureWarning: suggest_loguniform has been deprecated in v3.0.0. This feature will be removed in v6.0.0. See https://github.com/optuna/optuna/releases/tag/v3.0.0. Use suggest_float(..., log=True) instead.\n",
      "  \"alpha\": trial.suggest_loguniform(\"alpha\", 1e-8, 10.0),\n",
      "/var/folders/zs/q57jlw697vzcd20zv4v890wm0000gn/T/ipykernel_59165/3159156659.py:12: FutureWarning: suggest_loguniform has been deprecated in v3.0.0. This feature will be removed in v6.0.0. See https://github.com/optuna/optuna/releases/tag/v3.0.0. Use suggest_float(..., log=True) instead.\n",
      "  \"eta\": trial.suggest_loguniform(\"eta\", 1e-3, 0.3),\n",
      "/var/folders/zs/q57jlw697vzcd20zv4v890wm0000gn/T/ipykernel_59165/3159156659.py:13: FutureWarning: suggest_uniform has been deprecated in v3.0.0. This feature will be removed in v6.0.0. See https://github.com/optuna/optuna/releases/tag/v3.0.0. Use suggest_float instead.\n",
      "  \"subsample\": trial.suggest_uniform(\"subsample\", 0.5, 1.0),\n",
      "/var/folders/zs/q57jlw697vzcd20zv4v890wm0000gn/T/ipykernel_59165/3159156659.py:14: FutureWarning: suggest_uniform has been deprecated in v3.0.0. This feature will be removed in v6.0.0. See https://github.com/optuna/optuna/releases/tag/v3.0.0. Use suggest_float instead.\n",
      "  \"colsample_bytree\": trial.suggest_uniform(\"colsample_bytree\", 0.5, 1.0),\n",
      "[I 2025-06-27 07:53:24,106] Trial 35 finished with value: 0.9963969865705863 and parameters: {'booster': 'dart', 'lambda': 0.06542340119656798, 'alpha': 0.001147418023657499, 'max_depth': 9, 'eta': 0.014976705144059257, 'subsample': 0.5480521010890914, 'colsample_bytree': 0.7718453199065193}. Best is trial 16 with value: 0.9967245332459875.\n",
      "/var/folders/zs/q57jlw697vzcd20zv4v890wm0000gn/T/ipykernel_59165/3159156659.py:9: FutureWarning: suggest_loguniform has been deprecated in v3.0.0. This feature will be removed in v6.0.0. See https://github.com/optuna/optuna/releases/tag/v3.0.0. Use suggest_float(..., log=True) instead.\n",
      "  \"lambda\": trial.suggest_loguniform(\"lambda\", 1e-8, 10.0),\n",
      "/var/folders/zs/q57jlw697vzcd20zv4v890wm0000gn/T/ipykernel_59165/3159156659.py:10: FutureWarning: suggest_loguniform has been deprecated in v3.0.0. This feature will be removed in v6.0.0. See https://github.com/optuna/optuna/releases/tag/v3.0.0. Use suggest_float(..., log=True) instead.\n",
      "  \"alpha\": trial.suggest_loguniform(\"alpha\", 1e-8, 10.0),\n",
      "/var/folders/zs/q57jlw697vzcd20zv4v890wm0000gn/T/ipykernel_59165/3159156659.py:12: FutureWarning: suggest_loguniform has been deprecated in v3.0.0. This feature will be removed in v6.0.0. See https://github.com/optuna/optuna/releases/tag/v3.0.0. Use suggest_float(..., log=True) instead.\n",
      "  \"eta\": trial.suggest_loguniform(\"eta\", 1e-3, 0.3),\n",
      "/var/folders/zs/q57jlw697vzcd20zv4v890wm0000gn/T/ipykernel_59165/3159156659.py:13: FutureWarning: suggest_uniform has been deprecated in v3.0.0. This feature will be removed in v6.0.0. See https://github.com/optuna/optuna/releases/tag/v3.0.0. Use suggest_float instead.\n",
      "  \"subsample\": trial.suggest_uniform(\"subsample\", 0.5, 1.0),\n",
      "/var/folders/zs/q57jlw697vzcd20zv4v890wm0000gn/T/ipykernel_59165/3159156659.py:14: FutureWarning: suggest_uniform has been deprecated in v3.0.0. This feature will be removed in v6.0.0. See https://github.com/optuna/optuna/releases/tag/v3.0.0. Use suggest_float instead.\n",
      "  \"colsample_bytree\": trial.suggest_uniform(\"colsample_bytree\", 0.5, 1.0),\n",
      "[I 2025-06-27 07:53:24,124] Trial 36 pruned. Trial was pruned at iteration 10.\n",
      "[I 2025-06-27 07:53:24,361] Trial 37 finished with value: 0.9950867998689813 and parameters: {'booster': 'dart', 'lambda': 0.00031356044309654947, 'alpha': 0.005542684687596581, 'max_depth': 9, 'eta': 0.004770863785692937, 'subsample': 0.6003748921116646, 'colsample_bytree': 0.7028795398674891}. Best is trial 16 with value: 0.9967245332459875.\n",
      "/var/folders/zs/q57jlw697vzcd20zv4v890wm0000gn/T/ipykernel_59165/3159156659.py:9: FutureWarning: suggest_loguniform has been deprecated in v3.0.0. This feature will be removed in v6.0.0. See https://github.com/optuna/optuna/releases/tag/v3.0.0. Use suggest_float(..., log=True) instead.\n",
      "  \"lambda\": trial.suggest_loguniform(\"lambda\", 1e-8, 10.0),\n",
      "/var/folders/zs/q57jlw697vzcd20zv4v890wm0000gn/T/ipykernel_59165/3159156659.py:10: FutureWarning: suggest_loguniform has been deprecated in v3.0.0. This feature will be removed in v6.0.0. See https://github.com/optuna/optuna/releases/tag/v3.0.0. Use suggest_float(..., log=True) instead.\n",
      "  \"alpha\": trial.suggest_loguniform(\"alpha\", 1e-8, 10.0),\n",
      "/var/folders/zs/q57jlw697vzcd20zv4v890wm0000gn/T/ipykernel_59165/3159156659.py:12: FutureWarning: suggest_loguniform has been deprecated in v3.0.0. This feature will be removed in v6.0.0. See https://github.com/optuna/optuna/releases/tag/v3.0.0. Use suggest_float(..., log=True) instead.\n",
      "  \"eta\": trial.suggest_loguniform(\"eta\", 1e-3, 0.3),\n",
      "/var/folders/zs/q57jlw697vzcd20zv4v890wm0000gn/T/ipykernel_59165/3159156659.py:13: FutureWarning: suggest_uniform has been deprecated in v3.0.0. This feature will be removed in v6.0.0. See https://github.com/optuna/optuna/releases/tag/v3.0.0. Use suggest_float instead.\n",
      "  \"subsample\": trial.suggest_uniform(\"subsample\", 0.5, 1.0),\n",
      "/var/folders/zs/q57jlw697vzcd20zv4v890wm0000gn/T/ipykernel_59165/3159156659.py:14: FutureWarning: suggest_uniform has been deprecated in v3.0.0. This feature will be removed in v6.0.0. See https://github.com/optuna/optuna/releases/tag/v3.0.0. Use suggest_float instead.\n",
      "  \"colsample_bytree\": trial.suggest_uniform(\"colsample_bytree\", 0.5, 1.0),\n",
      "[I 2025-06-27 07:53:24,511] Trial 38 finished with value: 0.9941041598427776 and parameters: {'booster': 'dart', 'lambda': 1.4274022281721523e-05, 'alpha': 0.02717979501935232, 'max_depth': 11, 'eta': 0.05056997641065189, 'subsample': 0.7135937596171336, 'colsample_bytree': 0.532815694230397}. Best is trial 16 with value: 0.9967245332459875.\n",
      "/var/folders/zs/q57jlw697vzcd20zv4v890wm0000gn/T/ipykernel_59165/3159156659.py:9: FutureWarning: suggest_loguniform has been deprecated in v3.0.0. This feature will be removed in v6.0.0. See https://github.com/optuna/optuna/releases/tag/v3.0.0. Use suggest_float(..., log=True) instead.\n",
      "  \"lambda\": trial.suggest_loguniform(\"lambda\", 1e-8, 10.0),\n",
      "/var/folders/zs/q57jlw697vzcd20zv4v890wm0000gn/T/ipykernel_59165/3159156659.py:10: FutureWarning: suggest_loguniform has been deprecated in v3.0.0. This feature will be removed in v6.0.0. See https://github.com/optuna/optuna/releases/tag/v3.0.0. Use suggest_float(..., log=True) instead.\n",
      "  \"alpha\": trial.suggest_loguniform(\"alpha\", 1e-8, 10.0),\n",
      "/var/folders/zs/q57jlw697vzcd20zv4v890wm0000gn/T/ipykernel_59165/3159156659.py:12: FutureWarning: suggest_loguniform has been deprecated in v3.0.0. This feature will be removed in v6.0.0. See https://github.com/optuna/optuna/releases/tag/v3.0.0. Use suggest_float(..., log=True) instead.\n",
      "  \"eta\": trial.suggest_loguniform(\"eta\", 1e-3, 0.3),\n",
      "/var/folders/zs/q57jlw697vzcd20zv4v890wm0000gn/T/ipykernel_59165/3159156659.py:13: FutureWarning: suggest_uniform has been deprecated in v3.0.0. This feature will be removed in v6.0.0. See https://github.com/optuna/optuna/releases/tag/v3.0.0. Use suggest_float instead.\n",
      "  \"subsample\": trial.suggest_uniform(\"subsample\", 0.5, 1.0),\n",
      "/var/folders/zs/q57jlw697vzcd20zv4v890wm0000gn/T/ipykernel_59165/3159156659.py:14: FutureWarning: suggest_uniform has been deprecated in v3.0.0. This feature will be removed in v6.0.0. See https://github.com/optuna/optuna/releases/tag/v3.0.0. Use suggest_float instead.\n",
      "  \"colsample_bytree\": trial.suggest_uniform(\"colsample_bytree\", 0.5, 1.0),\n",
      "[I 2025-06-27 07:53:24,531] Trial 39 pruned. Trial was pruned at iteration 10.\n",
      "[I 2025-06-27 07:53:24,558] Trial 40 pruned. Trial was pruned at iteration 10.\n",
      "[I 2025-06-27 07:53:24,796] Trial 41 finished with value: 0.9970520799213888 and parameters: {'booster': 'dart', 'lambda': 0.0033362975983344915, 'alpha': 0.1458614013090994, 'max_depth': 3, 'eta': 0.01994762012853268, 'subsample': 0.5739281479466929, 'colsample_bytree': 0.5886740548073532}. Best is trial 41 with value: 0.9970520799213888.\n",
      "/var/folders/zs/q57jlw697vzcd20zv4v890wm0000gn/T/ipykernel_59165/3159156659.py:9: FutureWarning: suggest_loguniform has been deprecated in v3.0.0. This feature will be removed in v6.0.0. See https://github.com/optuna/optuna/releases/tag/v3.0.0. Use suggest_float(..., log=True) instead.\n",
      "  \"lambda\": trial.suggest_loguniform(\"lambda\", 1e-8, 10.0),\n",
      "/var/folders/zs/q57jlw697vzcd20zv4v890wm0000gn/T/ipykernel_59165/3159156659.py:10: FutureWarning: suggest_loguniform has been deprecated in v3.0.0. This feature will be removed in v6.0.0. See https://github.com/optuna/optuna/releases/tag/v3.0.0. Use suggest_float(..., log=True) instead.\n",
      "  \"alpha\": trial.suggest_loguniform(\"alpha\", 1e-8, 10.0),\n",
      "/var/folders/zs/q57jlw697vzcd20zv4v890wm0000gn/T/ipykernel_59165/3159156659.py:12: FutureWarning: suggest_loguniform has been deprecated in v3.0.0. This feature will be removed in v6.0.0. See https://github.com/optuna/optuna/releases/tag/v3.0.0. Use suggest_float(..., log=True) instead.\n",
      "  \"eta\": trial.suggest_loguniform(\"eta\", 1e-3, 0.3),\n",
      "/var/folders/zs/q57jlw697vzcd20zv4v890wm0000gn/T/ipykernel_59165/3159156659.py:13: FutureWarning: suggest_uniform has been deprecated in v3.0.0. This feature will be removed in v6.0.0. See https://github.com/optuna/optuna/releases/tag/v3.0.0. Use suggest_float instead.\n",
      "  \"subsample\": trial.suggest_uniform(\"subsample\", 0.5, 1.0),\n",
      "/var/folders/zs/q57jlw697vzcd20zv4v890wm0000gn/T/ipykernel_59165/3159156659.py:14: FutureWarning: suggest_uniform has been deprecated in v3.0.0. This feature will be removed in v6.0.0. See https://github.com/optuna/optuna/releases/tag/v3.0.0. Use suggest_float instead.\n",
      "  \"colsample_bytree\": trial.suggest_uniform(\"colsample_bytree\", 0.5, 1.0),\n",
      "[I 2025-06-27 07:53:25,105] Trial 42 finished with value: 0.9970520799213888 and parameters: {'booster': 'dart', 'lambda': 0.010968591292958322, 'alpha': 0.1688729843914357, 'max_depth': 3, 'eta': 0.007404421874294823, 'subsample': 0.5248030344262722, 'colsample_bytree': 0.5939718647042346}. Best is trial 41 with value: 0.9970520799213888.\n",
      "/var/folders/zs/q57jlw697vzcd20zv4v890wm0000gn/T/ipykernel_59165/3159156659.py:9: FutureWarning: suggest_loguniform has been deprecated in v3.0.0. This feature will be removed in v6.0.0. See https://github.com/optuna/optuna/releases/tag/v3.0.0. Use suggest_float(..., log=True) instead.\n",
      "  \"lambda\": trial.suggest_loguniform(\"lambda\", 1e-8, 10.0),\n",
      "/var/folders/zs/q57jlw697vzcd20zv4v890wm0000gn/T/ipykernel_59165/3159156659.py:10: FutureWarning: suggest_loguniform has been deprecated in v3.0.0. This feature will be removed in v6.0.0. See https://github.com/optuna/optuna/releases/tag/v3.0.0. Use suggest_float(..., log=True) instead.\n",
      "  \"alpha\": trial.suggest_loguniform(\"alpha\", 1e-8, 10.0),\n",
      "/var/folders/zs/q57jlw697vzcd20zv4v890wm0000gn/T/ipykernel_59165/3159156659.py:12: FutureWarning: suggest_loguniform has been deprecated in v3.0.0. This feature will be removed in v6.0.0. See https://github.com/optuna/optuna/releases/tag/v3.0.0. Use suggest_float(..., log=True) instead.\n",
      "  \"eta\": trial.suggest_loguniform(\"eta\", 1e-3, 0.3),\n",
      "/var/folders/zs/q57jlw697vzcd20zv4v890wm0000gn/T/ipykernel_59165/3159156659.py:13: FutureWarning: suggest_uniform has been deprecated in v3.0.0. This feature will be removed in v6.0.0. See https://github.com/optuna/optuna/releases/tag/v3.0.0. Use suggest_float instead.\n",
      "  \"subsample\": trial.suggest_uniform(\"subsample\", 0.5, 1.0),\n",
      "/var/folders/zs/q57jlw697vzcd20zv4v890wm0000gn/T/ipykernel_59165/3159156659.py:14: FutureWarning: suggest_uniform has been deprecated in v3.0.0. This feature will be removed in v6.0.0. See https://github.com/optuna/optuna/releases/tag/v3.0.0. Use suggest_float instead.\n",
      "  \"colsample_bytree\": trial.suggest_uniform(\"colsample_bytree\", 0.5, 1.0),\n",
      "[I 2025-06-27 07:53:25,421] Trial 43 finished with value: 0.99737962659679 and parameters: {'booster': 'dart', 'lambda': 0.011916378192625601, 'alpha': 0.15082104794986245, 'max_depth': 3, 'eta': 0.008406615320225208, 'subsample': 0.5263587853974492, 'colsample_bytree': 0.585494791048681}. Best is trial 43 with value: 0.99737962659679.\n",
      "/var/folders/zs/q57jlw697vzcd20zv4v890wm0000gn/T/ipykernel_59165/3159156659.py:9: FutureWarning: suggest_loguniform has been deprecated in v3.0.0. This feature will be removed in v6.0.0. See https://github.com/optuna/optuna/releases/tag/v3.0.0. Use suggest_float(..., log=True) instead.\n",
      "  \"lambda\": trial.suggest_loguniform(\"lambda\", 1e-8, 10.0),\n",
      "/var/folders/zs/q57jlw697vzcd20zv4v890wm0000gn/T/ipykernel_59165/3159156659.py:10: FutureWarning: suggest_loguniform has been deprecated in v3.0.0. This feature will be removed in v6.0.0. See https://github.com/optuna/optuna/releases/tag/v3.0.0. Use suggest_float(..., log=True) instead.\n",
      "  \"alpha\": trial.suggest_loguniform(\"alpha\", 1e-8, 10.0),\n",
      "/var/folders/zs/q57jlw697vzcd20zv4v890wm0000gn/T/ipykernel_59165/3159156659.py:12: FutureWarning: suggest_loguniform has been deprecated in v3.0.0. This feature will be removed in v6.0.0. See https://github.com/optuna/optuna/releases/tag/v3.0.0. Use suggest_float(..., log=True) instead.\n",
      "  \"eta\": trial.suggest_loguniform(\"eta\", 1e-3, 0.3),\n",
      "/var/folders/zs/q57jlw697vzcd20zv4v890wm0000gn/T/ipykernel_59165/3159156659.py:13: FutureWarning: suggest_uniform has been deprecated in v3.0.0. This feature will be removed in v6.0.0. See https://github.com/optuna/optuna/releases/tag/v3.0.0. Use suggest_float instead.\n",
      "  \"subsample\": trial.suggest_uniform(\"subsample\", 0.5, 1.0),\n",
      "/var/folders/zs/q57jlw697vzcd20zv4v890wm0000gn/T/ipykernel_59165/3159156659.py:14: FutureWarning: suggest_uniform has been deprecated in v3.0.0. This feature will be removed in v6.0.0. See https://github.com/optuna/optuna/releases/tag/v3.0.0. Use suggest_float instead.\n",
      "  \"colsample_bytree\": trial.suggest_uniform(\"colsample_bytree\", 0.5, 1.0),\n",
      "[I 2025-06-27 07:53:25,574] Trial 44 finished with value: 0.99737962659679 and parameters: {'booster': 'dart', 'lambda': 0.010675592279665998, 'alpha': 0.17311820051305077, 'max_depth': 3, 'eta': 0.0038625783440768067, 'subsample': 0.520418878852767, 'colsample_bytree': 0.5897381113537742}. Best is trial 43 with value: 0.99737962659679.\n",
      "/var/folders/zs/q57jlw697vzcd20zv4v890wm0000gn/T/ipykernel_59165/3159156659.py:9: FutureWarning: suggest_loguniform has been deprecated in v3.0.0. This feature will be removed in v6.0.0. See https://github.com/optuna/optuna/releases/tag/v3.0.0. Use suggest_float(..., log=True) instead.\n",
      "  \"lambda\": trial.suggest_loguniform(\"lambda\", 1e-8, 10.0),\n",
      "/var/folders/zs/q57jlw697vzcd20zv4v890wm0000gn/T/ipykernel_59165/3159156659.py:10: FutureWarning: suggest_loguniform has been deprecated in v3.0.0. This feature will be removed in v6.0.0. See https://github.com/optuna/optuna/releases/tag/v3.0.0. Use suggest_float(..., log=True) instead.\n",
      "  \"alpha\": trial.suggest_loguniform(\"alpha\", 1e-8, 10.0),\n",
      "/var/folders/zs/q57jlw697vzcd20zv4v890wm0000gn/T/ipykernel_59165/3159156659.py:12: FutureWarning: suggest_loguniform has been deprecated in v3.0.0. This feature will be removed in v6.0.0. See https://github.com/optuna/optuna/releases/tag/v3.0.0. Use suggest_float(..., log=True) instead.\n",
      "  \"eta\": trial.suggest_loguniform(\"eta\", 1e-3, 0.3),\n",
      "/var/folders/zs/q57jlw697vzcd20zv4v890wm0000gn/T/ipykernel_59165/3159156659.py:13: FutureWarning: suggest_uniform has been deprecated in v3.0.0. This feature will be removed in v6.0.0. See https://github.com/optuna/optuna/releases/tag/v3.0.0. Use suggest_float instead.\n",
      "  \"subsample\": trial.suggest_uniform(\"subsample\", 0.5, 1.0),\n",
      "/var/folders/zs/q57jlw697vzcd20zv4v890wm0000gn/T/ipykernel_59165/3159156659.py:14: FutureWarning: suggest_uniform has been deprecated in v3.0.0. This feature will be removed in v6.0.0. See https://github.com/optuna/optuna/releases/tag/v3.0.0. Use suggest_float instead.\n",
      "  \"colsample_bytree\": trial.suggest_uniform(\"colsample_bytree\", 0.5, 1.0),\n",
      "[I 2025-06-27 07:53:25,722] Trial 45 finished with value: 0.99737962659679 and parameters: {'booster': 'dart', 'lambda': 0.14794286003968068, 'alpha': 0.22988379732405273, 'max_depth': 3, 'eta': 0.006524882349477876, 'subsample': 0.5240424254879206, 'colsample_bytree': 0.6394569132102131}. Best is trial 43 with value: 0.99737962659679.\n",
      "/var/folders/zs/q57jlw697vzcd20zv4v890wm0000gn/T/ipykernel_59165/3159156659.py:9: FutureWarning: suggest_loguniform has been deprecated in v3.0.0. This feature will be removed in v6.0.0. See https://github.com/optuna/optuna/releases/tag/v3.0.0. Use suggest_float(..., log=True) instead.\n",
      "  \"lambda\": trial.suggest_loguniform(\"lambda\", 1e-8, 10.0),\n",
      "/var/folders/zs/q57jlw697vzcd20zv4v890wm0000gn/T/ipykernel_59165/3159156659.py:10: FutureWarning: suggest_loguniform has been deprecated in v3.0.0. This feature will be removed in v6.0.0. See https://github.com/optuna/optuna/releases/tag/v3.0.0. Use suggest_float(..., log=True) instead.\n",
      "  \"alpha\": trial.suggest_loguniform(\"alpha\", 1e-8, 10.0),\n",
      "/var/folders/zs/q57jlw697vzcd20zv4v890wm0000gn/T/ipykernel_59165/3159156659.py:12: FutureWarning: suggest_loguniform has been deprecated in v3.0.0. This feature will be removed in v6.0.0. See https://github.com/optuna/optuna/releases/tag/v3.0.0. Use suggest_float(..., log=True) instead.\n",
      "  \"eta\": trial.suggest_loguniform(\"eta\", 1e-3, 0.3),\n",
      "/var/folders/zs/q57jlw697vzcd20zv4v890wm0000gn/T/ipykernel_59165/3159156659.py:13: FutureWarning: suggest_uniform has been deprecated in v3.0.0. This feature will be removed in v6.0.0. See https://github.com/optuna/optuna/releases/tag/v3.0.0. Use suggest_float instead.\n",
      "  \"subsample\": trial.suggest_uniform(\"subsample\", 0.5, 1.0),\n",
      "/var/folders/zs/q57jlw697vzcd20zv4v890wm0000gn/T/ipykernel_59165/3159156659.py:14: FutureWarning: suggest_uniform has been deprecated in v3.0.0. This feature will be removed in v6.0.0. See https://github.com/optuna/optuna/releases/tag/v3.0.0. Use suggest_float instead.\n",
      "  \"colsample_bytree\": trial.suggest_uniform(\"colsample_bytree\", 0.5, 1.0),\n",
      "[I 2025-06-27 07:53:26,015] Trial 46 finished with value: 0.9970520799213888 and parameters: {'booster': 'dart', 'lambda': 0.24934249836732622, 'alpha': 1.3450937736526318, 'max_depth': 3, 'eta': 0.0068610327495815596, 'subsample': 0.52677065961222, 'colsample_bytree': 0.676550411404783}. Best is trial 43 with value: 0.99737962659679.\n",
      "/var/folders/zs/q57jlw697vzcd20zv4v890wm0000gn/T/ipykernel_59165/3159156659.py:9: FutureWarning: suggest_loguniform has been deprecated in v3.0.0. This feature will be removed in v6.0.0. See https://github.com/optuna/optuna/releases/tag/v3.0.0. Use suggest_float(..., log=True) instead.\n",
      "  \"lambda\": trial.suggest_loguniform(\"lambda\", 1e-8, 10.0),\n",
      "/var/folders/zs/q57jlw697vzcd20zv4v890wm0000gn/T/ipykernel_59165/3159156659.py:10: FutureWarning: suggest_loguniform has been deprecated in v3.0.0. This feature will be removed in v6.0.0. See https://github.com/optuna/optuna/releases/tag/v3.0.0. Use suggest_float(..., log=True) instead.\n",
      "  \"alpha\": trial.suggest_loguniform(\"alpha\", 1e-8, 10.0),\n",
      "/var/folders/zs/q57jlw697vzcd20zv4v890wm0000gn/T/ipykernel_59165/3159156659.py:12: FutureWarning: suggest_loguniform has been deprecated in v3.0.0. This feature will be removed in v6.0.0. See https://github.com/optuna/optuna/releases/tag/v3.0.0. Use suggest_float(..., log=True) instead.\n",
      "  \"eta\": trial.suggest_loguniform(\"eta\", 1e-3, 0.3),\n",
      "/var/folders/zs/q57jlw697vzcd20zv4v890wm0000gn/T/ipykernel_59165/3159156659.py:13: FutureWarning: suggest_uniform has been deprecated in v3.0.0. This feature will be removed in v6.0.0. See https://github.com/optuna/optuna/releases/tag/v3.0.0. Use suggest_float instead.\n",
      "  \"subsample\": trial.suggest_uniform(\"subsample\", 0.5, 1.0),\n",
      "/var/folders/zs/q57jlw697vzcd20zv4v890wm0000gn/T/ipykernel_59165/3159156659.py:14: FutureWarning: suggest_uniform has been deprecated in v3.0.0. This feature will be removed in v6.0.0. See https://github.com/optuna/optuna/releases/tag/v3.0.0. Use suggest_float instead.\n",
      "  \"colsample_bytree\": trial.suggest_uniform(\"colsample_bytree\", 0.5, 1.0),\n",
      "[I 2025-06-27 07:53:26,049] Trial 47 pruned. Trial was pruned at iteration 20.\n",
      "[I 2025-06-27 07:53:26,064] Trial 48 pruned. Trial was pruned at iteration 10.\n",
      "[I 2025-06-27 07:53:26,208] Trial 49 finished with value: 0.9957418932197838 and parameters: {'booster': 'dart', 'lambda': 0.08801653013658028, 'alpha': 2.830880413680787, 'max_depth': 3, 'eta': 0.001832037322862377, 'subsample': 0.6060691888962398, 'colsample_bytree': 0.6332474825773802}. Best is trial 43 with value: 0.99737962659679.\n"
     ]
    },
    {
     "name": "stdout",
     "output_type": "stream",
     "text": [
      "Best AUC: 0.99737962659679\n",
      "Best params: {'booster': 'dart', 'lambda': 0.011916378192625601, 'alpha': 0.15082104794986245, 'max_depth': 3, 'eta': 0.008406615320225208, 'subsample': 0.5263587853974492, 'colsample_bytree': 0.585494791048681}\n"
     ]
    }
   ],
   "source": [
    "# 3.3 Create and run study\n",
    "if __name__ == \"__main__\":\n",
    "    study = optuna.create_study(\n",
    "        direction=\"maximize\",\n",
    "        pruner=optuna.pruners.MedianPruner(n_warmup_steps=10)\n",
    "    )\n",
    "    study.optimize(objective, n_trials=50, timeout=600)\n",
    "\n",
    "    print(\"Best AUC:\", study.best_value)\n",
    "    print(\"Best params:\", study.best_params)\n"
   ]
  },
  {
   "cell_type": "code",
   "execution_count": 14,
   "metadata": {},
   "outputs": [
    {
     "data": {
      "application/vnd.plotly.v1+json": {
       "config": {
        "plotlyServerURL": "https://plot.ly"
       },
       "data": [
        {
         "mode": "markers",
         "name": "Objective Value",
         "type": "scatter",
         "x": [
          0,
          1,
          2,
          3,
          4,
          7,
          8,
          10,
          13,
          14,
          16,
          20,
          22,
          24,
          25,
          27,
          28,
          32,
          34,
          35,
          37,
          38,
          41,
          42,
          43,
          44,
          45,
          46,
          49
         ],
         "y": [
          0.9924664264657713,
          0.9905011464133638,
          0.9963969865705863,
          0.9911562397641663,
          0.9937766131673764,
          0.99475925319358,
          0.9944317065181788,
          0.9950867998689813,
          0.9921388797903702,
          0.9954143465443825,
          0.9967245332459875,
          0.9931215198165738,
          0.996069439895185,
          0.9963969865705863,
          0.9967245332459875,
          0.9954143465443825,
          0.996069439895185,
          0.996069439895185,
          0.9967245332459875,
          0.9963969865705863,
          0.9950867998689813,
          0.9941041598427776,
          0.9970520799213888,
          0.9970520799213888,
          0.99737962659679,
          0.99737962659679,
          0.99737962659679,
          0.9970520799213888,
          0.9957418932197838
         ]
        },
        {
         "mode": "lines",
         "name": "Best Value",
         "type": "scatter",
         "x": [
          0,
          1,
          2,
          3,
          4,
          5,
          6,
          7,
          8,
          9,
          10,
          11,
          12,
          13,
          14,
          15,
          16,
          17,
          18,
          19,
          20,
          21,
          22,
          23,
          24,
          25,
          26,
          27,
          28,
          29,
          30,
          31,
          32,
          33,
          34,
          35,
          36,
          37,
          38,
          39,
          40,
          41,
          42,
          43,
          44,
          45,
          46,
          47,
          48,
          49
         ],
         "y": [
          0.9924664264657713,
          0.9924664264657713,
          0.9963969865705863,
          0.9963969865705863,
          0.9963969865705863,
          0.9963969865705863,
          0.9963969865705863,
          0.9963969865705863,
          0.9963969865705863,
          0.9963969865705863,
          0.9963969865705863,
          0.9963969865705863,
          0.9963969865705863,
          0.9963969865705863,
          0.9963969865705863,
          0.9963969865705863,
          0.9967245332459875,
          0.9967245332459875,
          0.9967245332459875,
          0.9967245332459875,
          0.9967245332459875,
          0.9967245332459875,
          0.9967245332459875,
          0.9967245332459875,
          0.9967245332459875,
          0.9967245332459875,
          0.9967245332459875,
          0.9967245332459875,
          0.9967245332459875,
          0.9967245332459875,
          0.9967245332459875,
          0.9967245332459875,
          0.9967245332459875,
          0.9967245332459875,
          0.9967245332459875,
          0.9967245332459875,
          0.9967245332459875,
          0.9967245332459875,
          0.9967245332459875,
          0.9967245332459875,
          0.9967245332459875,
          0.9970520799213888,
          0.9970520799213888,
          0.99737962659679,
          0.99737962659679,
          0.99737962659679,
          0.99737962659679,
          0.99737962659679,
          0.99737962659679,
          0.99737962659679
         ]
        },
        {
         "marker": {
          "color": "#cccccc"
         },
         "mode": "markers",
         "name": "Infeasible Trial",
         "showlegend": false,
         "type": "scatter",
         "x": [],
         "y": []
        }
       ],
       "layout": {
        "template": {
         "data": {
          "bar": [
           {
            "error_x": {
             "color": "#2a3f5f"
            },
            "error_y": {
             "color": "#2a3f5f"
            },
            "marker": {
             "line": {
              "color": "#E5ECF6",
              "width": 0.5
             },
             "pattern": {
              "fillmode": "overlay",
              "size": 10,
              "solidity": 0.2
             }
            },
            "type": "bar"
           }
          ],
          "barpolar": [
           {
            "marker": {
             "line": {
              "color": "#E5ECF6",
              "width": 0.5
             },
             "pattern": {
              "fillmode": "overlay",
              "size": 10,
              "solidity": 0.2
             }
            },
            "type": "barpolar"
           }
          ],
          "carpet": [
           {
            "aaxis": {
             "endlinecolor": "#2a3f5f",
             "gridcolor": "white",
             "linecolor": "white",
             "minorgridcolor": "white",
             "startlinecolor": "#2a3f5f"
            },
            "baxis": {
             "endlinecolor": "#2a3f5f",
             "gridcolor": "white",
             "linecolor": "white",
             "minorgridcolor": "white",
             "startlinecolor": "#2a3f5f"
            },
            "type": "carpet"
           }
          ],
          "choropleth": [
           {
            "colorbar": {
             "outlinewidth": 0,
             "ticks": ""
            },
            "type": "choropleth"
           }
          ],
          "contour": [
           {
            "colorbar": {
             "outlinewidth": 0,
             "ticks": ""
            },
            "colorscale": [
             [
              0,
              "#0d0887"
             ],
             [
              0.1111111111111111,
              "#46039f"
             ],
             [
              0.2222222222222222,
              "#7201a8"
             ],
             [
              0.3333333333333333,
              "#9c179e"
             ],
             [
              0.4444444444444444,
              "#bd3786"
             ],
             [
              0.5555555555555556,
              "#d8576b"
             ],
             [
              0.6666666666666666,
              "#ed7953"
             ],
             [
              0.7777777777777778,
              "#fb9f3a"
             ],
             [
              0.8888888888888888,
              "#fdca26"
             ],
             [
              1,
              "#f0f921"
             ]
            ],
            "type": "contour"
           }
          ],
          "contourcarpet": [
           {
            "colorbar": {
             "outlinewidth": 0,
             "ticks": ""
            },
            "type": "contourcarpet"
           }
          ],
          "heatmap": [
           {
            "colorbar": {
             "outlinewidth": 0,
             "ticks": ""
            },
            "colorscale": [
             [
              0,
              "#0d0887"
             ],
             [
              0.1111111111111111,
              "#46039f"
             ],
             [
              0.2222222222222222,
              "#7201a8"
             ],
             [
              0.3333333333333333,
              "#9c179e"
             ],
             [
              0.4444444444444444,
              "#bd3786"
             ],
             [
              0.5555555555555556,
              "#d8576b"
             ],
             [
              0.6666666666666666,
              "#ed7953"
             ],
             [
              0.7777777777777778,
              "#fb9f3a"
             ],
             [
              0.8888888888888888,
              "#fdca26"
             ],
             [
              1,
              "#f0f921"
             ]
            ],
            "type": "heatmap"
           }
          ],
          "heatmapgl": [
           {
            "colorbar": {
             "outlinewidth": 0,
             "ticks": ""
            },
            "colorscale": [
             [
              0,
              "#0d0887"
             ],
             [
              0.1111111111111111,
              "#46039f"
             ],
             [
              0.2222222222222222,
              "#7201a8"
             ],
             [
              0.3333333333333333,
              "#9c179e"
             ],
             [
              0.4444444444444444,
              "#bd3786"
             ],
             [
              0.5555555555555556,
              "#d8576b"
             ],
             [
              0.6666666666666666,
              "#ed7953"
             ],
             [
              0.7777777777777778,
              "#fb9f3a"
             ],
             [
              0.8888888888888888,
              "#fdca26"
             ],
             [
              1,
              "#f0f921"
             ]
            ],
            "type": "heatmapgl"
           }
          ],
          "histogram": [
           {
            "marker": {
             "pattern": {
              "fillmode": "overlay",
              "size": 10,
              "solidity": 0.2
             }
            },
            "type": "histogram"
           }
          ],
          "histogram2d": [
           {
            "colorbar": {
             "outlinewidth": 0,
             "ticks": ""
            },
            "colorscale": [
             [
              0,
              "#0d0887"
             ],
             [
              0.1111111111111111,
              "#46039f"
             ],
             [
              0.2222222222222222,
              "#7201a8"
             ],
             [
              0.3333333333333333,
              "#9c179e"
             ],
             [
              0.4444444444444444,
              "#bd3786"
             ],
             [
              0.5555555555555556,
              "#d8576b"
             ],
             [
              0.6666666666666666,
              "#ed7953"
             ],
             [
              0.7777777777777778,
              "#fb9f3a"
             ],
             [
              0.8888888888888888,
              "#fdca26"
             ],
             [
              1,
              "#f0f921"
             ]
            ],
            "type": "histogram2d"
           }
          ],
          "histogram2dcontour": [
           {
            "colorbar": {
             "outlinewidth": 0,
             "ticks": ""
            },
            "colorscale": [
             [
              0,
              "#0d0887"
             ],
             [
              0.1111111111111111,
              "#46039f"
             ],
             [
              0.2222222222222222,
              "#7201a8"
             ],
             [
              0.3333333333333333,
              "#9c179e"
             ],
             [
              0.4444444444444444,
              "#bd3786"
             ],
             [
              0.5555555555555556,
              "#d8576b"
             ],
             [
              0.6666666666666666,
              "#ed7953"
             ],
             [
              0.7777777777777778,
              "#fb9f3a"
             ],
             [
              0.8888888888888888,
              "#fdca26"
             ],
             [
              1,
              "#f0f921"
             ]
            ],
            "type": "histogram2dcontour"
           }
          ],
          "mesh3d": [
           {
            "colorbar": {
             "outlinewidth": 0,
             "ticks": ""
            },
            "type": "mesh3d"
           }
          ],
          "parcoords": [
           {
            "line": {
             "colorbar": {
              "outlinewidth": 0,
              "ticks": ""
             }
            },
            "type": "parcoords"
           }
          ],
          "pie": [
           {
            "automargin": true,
            "type": "pie"
           }
          ],
          "scatter": [
           {
            "fillpattern": {
             "fillmode": "overlay",
             "size": 10,
             "solidity": 0.2
            },
            "type": "scatter"
           }
          ],
          "scatter3d": [
           {
            "line": {
             "colorbar": {
              "outlinewidth": 0,
              "ticks": ""
             }
            },
            "marker": {
             "colorbar": {
              "outlinewidth": 0,
              "ticks": ""
             }
            },
            "type": "scatter3d"
           }
          ],
          "scattercarpet": [
           {
            "marker": {
             "colorbar": {
              "outlinewidth": 0,
              "ticks": ""
             }
            },
            "type": "scattercarpet"
           }
          ],
          "scattergeo": [
           {
            "marker": {
             "colorbar": {
              "outlinewidth": 0,
              "ticks": ""
             }
            },
            "type": "scattergeo"
           }
          ],
          "scattergl": [
           {
            "marker": {
             "colorbar": {
              "outlinewidth": 0,
              "ticks": ""
             }
            },
            "type": "scattergl"
           }
          ],
          "scattermapbox": [
           {
            "marker": {
             "colorbar": {
              "outlinewidth": 0,
              "ticks": ""
             }
            },
            "type": "scattermapbox"
           }
          ],
          "scatterpolar": [
           {
            "marker": {
             "colorbar": {
              "outlinewidth": 0,
              "ticks": ""
             }
            },
            "type": "scatterpolar"
           }
          ],
          "scatterpolargl": [
           {
            "marker": {
             "colorbar": {
              "outlinewidth": 0,
              "ticks": ""
             }
            },
            "type": "scatterpolargl"
           }
          ],
          "scatterternary": [
           {
            "marker": {
             "colorbar": {
              "outlinewidth": 0,
              "ticks": ""
             }
            },
            "type": "scatterternary"
           }
          ],
          "surface": [
           {
            "colorbar": {
             "outlinewidth": 0,
             "ticks": ""
            },
            "colorscale": [
             [
              0,
              "#0d0887"
             ],
             [
              0.1111111111111111,
              "#46039f"
             ],
             [
              0.2222222222222222,
              "#7201a8"
             ],
             [
              0.3333333333333333,
              "#9c179e"
             ],
             [
              0.4444444444444444,
              "#bd3786"
             ],
             [
              0.5555555555555556,
              "#d8576b"
             ],
             [
              0.6666666666666666,
              "#ed7953"
             ],
             [
              0.7777777777777778,
              "#fb9f3a"
             ],
             [
              0.8888888888888888,
              "#fdca26"
             ],
             [
              1,
              "#f0f921"
             ]
            ],
            "type": "surface"
           }
          ],
          "table": [
           {
            "cells": {
             "fill": {
              "color": "#EBF0F8"
             },
             "line": {
              "color": "white"
             }
            },
            "header": {
             "fill": {
              "color": "#C8D4E3"
             },
             "line": {
              "color": "white"
             }
            },
            "type": "table"
           }
          ]
         },
         "layout": {
          "annotationdefaults": {
           "arrowcolor": "#2a3f5f",
           "arrowhead": 0,
           "arrowwidth": 1
          },
          "autotypenumbers": "strict",
          "coloraxis": {
           "colorbar": {
            "outlinewidth": 0,
            "ticks": ""
           }
          },
          "colorscale": {
           "diverging": [
            [
             0,
             "#8e0152"
            ],
            [
             0.1,
             "#c51b7d"
            ],
            [
             0.2,
             "#de77ae"
            ],
            [
             0.3,
             "#f1b6da"
            ],
            [
             0.4,
             "#fde0ef"
            ],
            [
             0.5,
             "#f7f7f7"
            ],
            [
             0.6,
             "#e6f5d0"
            ],
            [
             0.7,
             "#b8e186"
            ],
            [
             0.8,
             "#7fbc41"
            ],
            [
             0.9,
             "#4d9221"
            ],
            [
             1,
             "#276419"
            ]
           ],
           "sequential": [
            [
             0,
             "#0d0887"
            ],
            [
             0.1111111111111111,
             "#46039f"
            ],
            [
             0.2222222222222222,
             "#7201a8"
            ],
            [
             0.3333333333333333,
             "#9c179e"
            ],
            [
             0.4444444444444444,
             "#bd3786"
            ],
            [
             0.5555555555555556,
             "#d8576b"
            ],
            [
             0.6666666666666666,
             "#ed7953"
            ],
            [
             0.7777777777777778,
             "#fb9f3a"
            ],
            [
             0.8888888888888888,
             "#fdca26"
            ],
            [
             1,
             "#f0f921"
            ]
           ],
           "sequentialminus": [
            [
             0,
             "#0d0887"
            ],
            [
             0.1111111111111111,
             "#46039f"
            ],
            [
             0.2222222222222222,
             "#7201a8"
            ],
            [
             0.3333333333333333,
             "#9c179e"
            ],
            [
             0.4444444444444444,
             "#bd3786"
            ],
            [
             0.5555555555555556,
             "#d8576b"
            ],
            [
             0.6666666666666666,
             "#ed7953"
            ],
            [
             0.7777777777777778,
             "#fb9f3a"
            ],
            [
             0.8888888888888888,
             "#fdca26"
            ],
            [
             1,
             "#f0f921"
            ]
           ]
          },
          "colorway": [
           "#636efa",
           "#EF553B",
           "#00cc96",
           "#ab63fa",
           "#FFA15A",
           "#19d3f3",
           "#FF6692",
           "#B6E880",
           "#FF97FF",
           "#FECB52"
          ],
          "font": {
           "color": "#2a3f5f"
          },
          "geo": {
           "bgcolor": "white",
           "lakecolor": "white",
           "landcolor": "#E5ECF6",
           "showlakes": true,
           "showland": true,
           "subunitcolor": "white"
          },
          "hoverlabel": {
           "align": "left"
          },
          "hovermode": "closest",
          "mapbox": {
           "style": "light"
          },
          "paper_bgcolor": "white",
          "plot_bgcolor": "#E5ECF6",
          "polar": {
           "angularaxis": {
            "gridcolor": "white",
            "linecolor": "white",
            "ticks": ""
           },
           "bgcolor": "#E5ECF6",
           "radialaxis": {
            "gridcolor": "white",
            "linecolor": "white",
            "ticks": ""
           }
          },
          "scene": {
           "xaxis": {
            "backgroundcolor": "#E5ECF6",
            "gridcolor": "white",
            "gridwidth": 2,
            "linecolor": "white",
            "showbackground": true,
            "ticks": "",
            "zerolinecolor": "white"
           },
           "yaxis": {
            "backgroundcolor": "#E5ECF6",
            "gridcolor": "white",
            "gridwidth": 2,
            "linecolor": "white",
            "showbackground": true,
            "ticks": "",
            "zerolinecolor": "white"
           },
           "zaxis": {
            "backgroundcolor": "#E5ECF6",
            "gridcolor": "white",
            "gridwidth": 2,
            "linecolor": "white",
            "showbackground": true,
            "ticks": "",
            "zerolinecolor": "white"
           }
          },
          "shapedefaults": {
           "line": {
            "color": "#2a3f5f"
           }
          },
          "ternary": {
           "aaxis": {
            "gridcolor": "white",
            "linecolor": "white",
            "ticks": ""
           },
           "baxis": {
            "gridcolor": "white",
            "linecolor": "white",
            "ticks": ""
           },
           "bgcolor": "#E5ECF6",
           "caxis": {
            "gridcolor": "white",
            "linecolor": "white",
            "ticks": ""
           }
          },
          "title": {
           "x": 0.05
          },
          "xaxis": {
           "automargin": true,
           "gridcolor": "white",
           "linecolor": "white",
           "ticks": "",
           "title": {
            "standoff": 15
           },
           "zerolinecolor": "white",
           "zerolinewidth": 2
          },
          "yaxis": {
           "automargin": true,
           "gridcolor": "white",
           "linecolor": "white",
           "ticks": "",
           "title": {
            "standoff": 15
           },
           "zerolinecolor": "white",
           "zerolinewidth": 2
          }
         }
        },
        "title": {
         "text": "Optimization History Plot"
        },
        "xaxis": {
         "title": {
          "text": "Trial"
         }
        },
        "yaxis": {
         "title": {
          "text": "Objective Value"
         }
        }
       }
      }
     },
     "metadata": {},
     "output_type": "display_data"
    }
   ],
   "source": [
    "import optuna.visualization as vis\n",
    "\n",
    "\n",
    "vis.plot_optimization_history(study)"
   ]
  },
  {
   "cell_type": "code",
   "execution_count": 15,
   "metadata": {},
   "outputs": [
    {
     "data": {
      "application/vnd.plotly.v1+json": {
       "config": {
        "plotlyServerURL": "https://plot.ly"
       },
       "data": [
        {
         "cliponaxis": false,
         "hovertemplate": [
          "booster (CategoricalDistribution): 0.020286513117116545<extra></extra>",
          "lambda (FloatDistribution): 0.030676910435207413<extra></extra>",
          "alpha (FloatDistribution): 0.04309101839091899<extra></extra>",
          "eta (FloatDistribution): 0.07630368192993078<extra></extra>",
          "colsample_bytree (FloatDistribution): 0.10060024645547024<extra></extra>",
          "max_depth (IntDistribution): 0.11972997905808751<extra></extra>",
          "subsample (FloatDistribution): 0.6093116506132685<extra></extra>"
         ],
         "name": "Objective Value",
         "orientation": "h",
         "text": [
          "0.02",
          "0.03",
          "0.04",
          "0.08",
          "0.10",
          "0.12",
          "0.61"
         ],
         "textposition": "outside",
         "type": "bar",
         "x": [
          0.020286513117116545,
          0.030676910435207413,
          0.04309101839091899,
          0.07630368192993078,
          0.10060024645547024,
          0.11972997905808751,
          0.6093116506132685
         ],
         "y": [
          "booster",
          "lambda",
          "alpha",
          "eta",
          "colsample_bytree",
          "max_depth",
          "subsample"
         ]
        }
       ],
       "layout": {
        "template": {
         "data": {
          "bar": [
           {
            "error_x": {
             "color": "#2a3f5f"
            },
            "error_y": {
             "color": "#2a3f5f"
            },
            "marker": {
             "line": {
              "color": "#E5ECF6",
              "width": 0.5
             },
             "pattern": {
              "fillmode": "overlay",
              "size": 10,
              "solidity": 0.2
             }
            },
            "type": "bar"
           }
          ],
          "barpolar": [
           {
            "marker": {
             "line": {
              "color": "#E5ECF6",
              "width": 0.5
             },
             "pattern": {
              "fillmode": "overlay",
              "size": 10,
              "solidity": 0.2
             }
            },
            "type": "barpolar"
           }
          ],
          "carpet": [
           {
            "aaxis": {
             "endlinecolor": "#2a3f5f",
             "gridcolor": "white",
             "linecolor": "white",
             "minorgridcolor": "white",
             "startlinecolor": "#2a3f5f"
            },
            "baxis": {
             "endlinecolor": "#2a3f5f",
             "gridcolor": "white",
             "linecolor": "white",
             "minorgridcolor": "white",
             "startlinecolor": "#2a3f5f"
            },
            "type": "carpet"
           }
          ],
          "choropleth": [
           {
            "colorbar": {
             "outlinewidth": 0,
             "ticks": ""
            },
            "type": "choropleth"
           }
          ],
          "contour": [
           {
            "colorbar": {
             "outlinewidth": 0,
             "ticks": ""
            },
            "colorscale": [
             [
              0,
              "#0d0887"
             ],
             [
              0.1111111111111111,
              "#46039f"
             ],
             [
              0.2222222222222222,
              "#7201a8"
             ],
             [
              0.3333333333333333,
              "#9c179e"
             ],
             [
              0.4444444444444444,
              "#bd3786"
             ],
             [
              0.5555555555555556,
              "#d8576b"
             ],
             [
              0.6666666666666666,
              "#ed7953"
             ],
             [
              0.7777777777777778,
              "#fb9f3a"
             ],
             [
              0.8888888888888888,
              "#fdca26"
             ],
             [
              1,
              "#f0f921"
             ]
            ],
            "type": "contour"
           }
          ],
          "contourcarpet": [
           {
            "colorbar": {
             "outlinewidth": 0,
             "ticks": ""
            },
            "type": "contourcarpet"
           }
          ],
          "heatmap": [
           {
            "colorbar": {
             "outlinewidth": 0,
             "ticks": ""
            },
            "colorscale": [
             [
              0,
              "#0d0887"
             ],
             [
              0.1111111111111111,
              "#46039f"
             ],
             [
              0.2222222222222222,
              "#7201a8"
             ],
             [
              0.3333333333333333,
              "#9c179e"
             ],
             [
              0.4444444444444444,
              "#bd3786"
             ],
             [
              0.5555555555555556,
              "#d8576b"
             ],
             [
              0.6666666666666666,
              "#ed7953"
             ],
             [
              0.7777777777777778,
              "#fb9f3a"
             ],
             [
              0.8888888888888888,
              "#fdca26"
             ],
             [
              1,
              "#f0f921"
             ]
            ],
            "type": "heatmap"
           }
          ],
          "heatmapgl": [
           {
            "colorbar": {
             "outlinewidth": 0,
             "ticks": ""
            },
            "colorscale": [
             [
              0,
              "#0d0887"
             ],
             [
              0.1111111111111111,
              "#46039f"
             ],
             [
              0.2222222222222222,
              "#7201a8"
             ],
             [
              0.3333333333333333,
              "#9c179e"
             ],
             [
              0.4444444444444444,
              "#bd3786"
             ],
             [
              0.5555555555555556,
              "#d8576b"
             ],
             [
              0.6666666666666666,
              "#ed7953"
             ],
             [
              0.7777777777777778,
              "#fb9f3a"
             ],
             [
              0.8888888888888888,
              "#fdca26"
             ],
             [
              1,
              "#f0f921"
             ]
            ],
            "type": "heatmapgl"
           }
          ],
          "histogram": [
           {
            "marker": {
             "pattern": {
              "fillmode": "overlay",
              "size": 10,
              "solidity": 0.2
             }
            },
            "type": "histogram"
           }
          ],
          "histogram2d": [
           {
            "colorbar": {
             "outlinewidth": 0,
             "ticks": ""
            },
            "colorscale": [
             [
              0,
              "#0d0887"
             ],
             [
              0.1111111111111111,
              "#46039f"
             ],
             [
              0.2222222222222222,
              "#7201a8"
             ],
             [
              0.3333333333333333,
              "#9c179e"
             ],
             [
              0.4444444444444444,
              "#bd3786"
             ],
             [
              0.5555555555555556,
              "#d8576b"
             ],
             [
              0.6666666666666666,
              "#ed7953"
             ],
             [
              0.7777777777777778,
              "#fb9f3a"
             ],
             [
              0.8888888888888888,
              "#fdca26"
             ],
             [
              1,
              "#f0f921"
             ]
            ],
            "type": "histogram2d"
           }
          ],
          "histogram2dcontour": [
           {
            "colorbar": {
             "outlinewidth": 0,
             "ticks": ""
            },
            "colorscale": [
             [
              0,
              "#0d0887"
             ],
             [
              0.1111111111111111,
              "#46039f"
             ],
             [
              0.2222222222222222,
              "#7201a8"
             ],
             [
              0.3333333333333333,
              "#9c179e"
             ],
             [
              0.4444444444444444,
              "#bd3786"
             ],
             [
              0.5555555555555556,
              "#d8576b"
             ],
             [
              0.6666666666666666,
              "#ed7953"
             ],
             [
              0.7777777777777778,
              "#fb9f3a"
             ],
             [
              0.8888888888888888,
              "#fdca26"
             ],
             [
              1,
              "#f0f921"
             ]
            ],
            "type": "histogram2dcontour"
           }
          ],
          "mesh3d": [
           {
            "colorbar": {
             "outlinewidth": 0,
             "ticks": ""
            },
            "type": "mesh3d"
           }
          ],
          "parcoords": [
           {
            "line": {
             "colorbar": {
              "outlinewidth": 0,
              "ticks": ""
             }
            },
            "type": "parcoords"
           }
          ],
          "pie": [
           {
            "automargin": true,
            "type": "pie"
           }
          ],
          "scatter": [
           {
            "fillpattern": {
             "fillmode": "overlay",
             "size": 10,
             "solidity": 0.2
            },
            "type": "scatter"
           }
          ],
          "scatter3d": [
           {
            "line": {
             "colorbar": {
              "outlinewidth": 0,
              "ticks": ""
             }
            },
            "marker": {
             "colorbar": {
              "outlinewidth": 0,
              "ticks": ""
             }
            },
            "type": "scatter3d"
           }
          ],
          "scattercarpet": [
           {
            "marker": {
             "colorbar": {
              "outlinewidth": 0,
              "ticks": ""
             }
            },
            "type": "scattercarpet"
           }
          ],
          "scattergeo": [
           {
            "marker": {
             "colorbar": {
              "outlinewidth": 0,
              "ticks": ""
             }
            },
            "type": "scattergeo"
           }
          ],
          "scattergl": [
           {
            "marker": {
             "colorbar": {
              "outlinewidth": 0,
              "ticks": ""
             }
            },
            "type": "scattergl"
           }
          ],
          "scattermapbox": [
           {
            "marker": {
             "colorbar": {
              "outlinewidth": 0,
              "ticks": ""
             }
            },
            "type": "scattermapbox"
           }
          ],
          "scatterpolar": [
           {
            "marker": {
             "colorbar": {
              "outlinewidth": 0,
              "ticks": ""
             }
            },
            "type": "scatterpolar"
           }
          ],
          "scatterpolargl": [
           {
            "marker": {
             "colorbar": {
              "outlinewidth": 0,
              "ticks": ""
             }
            },
            "type": "scatterpolargl"
           }
          ],
          "scatterternary": [
           {
            "marker": {
             "colorbar": {
              "outlinewidth": 0,
              "ticks": ""
             }
            },
            "type": "scatterternary"
           }
          ],
          "surface": [
           {
            "colorbar": {
             "outlinewidth": 0,
             "ticks": ""
            },
            "colorscale": [
             [
              0,
              "#0d0887"
             ],
             [
              0.1111111111111111,
              "#46039f"
             ],
             [
              0.2222222222222222,
              "#7201a8"
             ],
             [
              0.3333333333333333,
              "#9c179e"
             ],
             [
              0.4444444444444444,
              "#bd3786"
             ],
             [
              0.5555555555555556,
              "#d8576b"
             ],
             [
              0.6666666666666666,
              "#ed7953"
             ],
             [
              0.7777777777777778,
              "#fb9f3a"
             ],
             [
              0.8888888888888888,
              "#fdca26"
             ],
             [
              1,
              "#f0f921"
             ]
            ],
            "type": "surface"
           }
          ],
          "table": [
           {
            "cells": {
             "fill": {
              "color": "#EBF0F8"
             },
             "line": {
              "color": "white"
             }
            },
            "header": {
             "fill": {
              "color": "#C8D4E3"
             },
             "line": {
              "color": "white"
             }
            },
            "type": "table"
           }
          ]
         },
         "layout": {
          "annotationdefaults": {
           "arrowcolor": "#2a3f5f",
           "arrowhead": 0,
           "arrowwidth": 1
          },
          "autotypenumbers": "strict",
          "coloraxis": {
           "colorbar": {
            "outlinewidth": 0,
            "ticks": ""
           }
          },
          "colorscale": {
           "diverging": [
            [
             0,
             "#8e0152"
            ],
            [
             0.1,
             "#c51b7d"
            ],
            [
             0.2,
             "#de77ae"
            ],
            [
             0.3,
             "#f1b6da"
            ],
            [
             0.4,
             "#fde0ef"
            ],
            [
             0.5,
             "#f7f7f7"
            ],
            [
             0.6,
             "#e6f5d0"
            ],
            [
             0.7,
             "#b8e186"
            ],
            [
             0.8,
             "#7fbc41"
            ],
            [
             0.9,
             "#4d9221"
            ],
            [
             1,
             "#276419"
            ]
           ],
           "sequential": [
            [
             0,
             "#0d0887"
            ],
            [
             0.1111111111111111,
             "#46039f"
            ],
            [
             0.2222222222222222,
             "#7201a8"
            ],
            [
             0.3333333333333333,
             "#9c179e"
            ],
            [
             0.4444444444444444,
             "#bd3786"
            ],
            [
             0.5555555555555556,
             "#d8576b"
            ],
            [
             0.6666666666666666,
             "#ed7953"
            ],
            [
             0.7777777777777778,
             "#fb9f3a"
            ],
            [
             0.8888888888888888,
             "#fdca26"
            ],
            [
             1,
             "#f0f921"
            ]
           ],
           "sequentialminus": [
            [
             0,
             "#0d0887"
            ],
            [
             0.1111111111111111,
             "#46039f"
            ],
            [
             0.2222222222222222,
             "#7201a8"
            ],
            [
             0.3333333333333333,
             "#9c179e"
            ],
            [
             0.4444444444444444,
             "#bd3786"
            ],
            [
             0.5555555555555556,
             "#d8576b"
            ],
            [
             0.6666666666666666,
             "#ed7953"
            ],
            [
             0.7777777777777778,
             "#fb9f3a"
            ],
            [
             0.8888888888888888,
             "#fdca26"
            ],
            [
             1,
             "#f0f921"
            ]
           ]
          },
          "colorway": [
           "#636efa",
           "#EF553B",
           "#00cc96",
           "#ab63fa",
           "#FFA15A",
           "#19d3f3",
           "#FF6692",
           "#B6E880",
           "#FF97FF",
           "#FECB52"
          ],
          "font": {
           "color": "#2a3f5f"
          },
          "geo": {
           "bgcolor": "white",
           "lakecolor": "white",
           "landcolor": "#E5ECF6",
           "showlakes": true,
           "showland": true,
           "subunitcolor": "white"
          },
          "hoverlabel": {
           "align": "left"
          },
          "hovermode": "closest",
          "mapbox": {
           "style": "light"
          },
          "paper_bgcolor": "white",
          "plot_bgcolor": "#E5ECF6",
          "polar": {
           "angularaxis": {
            "gridcolor": "white",
            "linecolor": "white",
            "ticks": ""
           },
           "bgcolor": "#E5ECF6",
           "radialaxis": {
            "gridcolor": "white",
            "linecolor": "white",
            "ticks": ""
           }
          },
          "scene": {
           "xaxis": {
            "backgroundcolor": "#E5ECF6",
            "gridcolor": "white",
            "gridwidth": 2,
            "linecolor": "white",
            "showbackground": true,
            "ticks": "",
            "zerolinecolor": "white"
           },
           "yaxis": {
            "backgroundcolor": "#E5ECF6",
            "gridcolor": "white",
            "gridwidth": 2,
            "linecolor": "white",
            "showbackground": true,
            "ticks": "",
            "zerolinecolor": "white"
           },
           "zaxis": {
            "backgroundcolor": "#E5ECF6",
            "gridcolor": "white",
            "gridwidth": 2,
            "linecolor": "white",
            "showbackground": true,
            "ticks": "",
            "zerolinecolor": "white"
           }
          },
          "shapedefaults": {
           "line": {
            "color": "#2a3f5f"
           }
          },
          "ternary": {
           "aaxis": {
            "gridcolor": "white",
            "linecolor": "white",
            "ticks": ""
           },
           "baxis": {
            "gridcolor": "white",
            "linecolor": "white",
            "ticks": ""
           },
           "bgcolor": "#E5ECF6",
           "caxis": {
            "gridcolor": "white",
            "linecolor": "white",
            "ticks": ""
           }
          },
          "title": {
           "x": 0.05
          },
          "xaxis": {
           "automargin": true,
           "gridcolor": "white",
           "linecolor": "white",
           "ticks": "",
           "title": {
            "standoff": 15
           },
           "zerolinecolor": "white",
           "zerolinewidth": 2
          },
          "yaxis": {
           "automargin": true,
           "gridcolor": "white",
           "linecolor": "white",
           "ticks": "",
           "title": {
            "standoff": 15
           },
           "zerolinecolor": "white",
           "zerolinewidth": 2
          }
         }
        },
        "title": {
         "text": "Hyperparameter Importances"
        },
        "xaxis": {
         "title": {
          "text": "Hyperparameter Importance"
         }
        },
        "yaxis": {
         "title": {
          "text": "Hyperparameter"
         }
        }
       }
      }
     },
     "metadata": {},
     "output_type": "display_data"
    }
   ],
   "source": [
    "vis.plot_param_importances(study)"
   ]
  },
  {
   "cell_type": "code",
   "execution_count": 16,
   "metadata": {},
   "outputs": [
    {
     "data": {
      "application/vnd.plotly.v1+json": {
       "config": {
        "plotlyServerURL": "https://plot.ly"
       },
       "data": [
        {
         "marker": {
          "color": [
           0,
           1,
           2,
           3,
           4,
           7,
           8,
           10,
           13,
           14,
           16,
           20,
           22,
           24,
           25,
           27,
           28,
           32,
           34,
           35,
           37,
           38,
           41,
           42,
           43,
           44,
           45,
           46,
           49
          ],
          "colorbar": {
           "title": {
            "text": "Trial"
           },
           "x": 1,
           "xpad": 40
          },
          "colorscale": [
           [
            0,
            "rgb(247,251,255)"
           ],
           [
            0.125,
            "rgb(222,235,247)"
           ],
           [
            0.25,
            "rgb(198,219,239)"
           ],
           [
            0.375,
            "rgb(158,202,225)"
           ],
           [
            0.5,
            "rgb(107,174,214)"
           ],
           [
            0.625,
            "rgb(66,146,198)"
           ],
           [
            0.75,
            "rgb(33,113,181)"
           ],
           [
            0.875,
            "rgb(8,81,156)"
           ],
           [
            1,
            "rgb(8,48,107)"
           ]
          ],
          "line": {
           "color": "Grey",
           "width": 0.5
          },
          "showscale": true
         },
         "mode": "markers",
         "name": "Feasible Trial",
         "showlegend": false,
         "type": "scatter",
         "x": [
          0.027968585420110256,
          2.8721215783495595e-8,
          0.0004416238351538182,
          2.3581244453807814e-8,
          5.399630711912041,
          0.0006177872042432527,
          0.00006489735914350419,
          0.0000010714749738100485,
          0.0033447380333577114,
          0.4804290776018415,
          0.19572917416941146,
          0.000024824692666304297,
          0.4498217351977128,
          0.1009821770877161,
          0.05674995581477314,
          0.04420213559251294,
          0.0030436747730707334,
          1.5965055922488047,
          0.005687662615298168,
          0.001147418023657499,
          0.005542684687596581,
          0.02717979501935232,
          0.1458614013090994,
          0.1688729843914357,
          0.15082104794986245,
          0.17311820051305077,
          0.22988379732405273,
          1.3450937736526318,
          2.830880413680787
         ],
         "xaxis": "x",
         "y": [
          0.9924664264657713,
          0.9905011464133638,
          0.9963969865705863,
          0.9911562397641663,
          0.9937766131673764,
          0.99475925319358,
          0.9944317065181788,
          0.9950867998689813,
          0.9921388797903702,
          0.9954143465443825,
          0.9967245332459875,
          0.9931215198165738,
          0.996069439895185,
          0.9963969865705863,
          0.9967245332459875,
          0.9954143465443825,
          0.996069439895185,
          0.996069439895185,
          0.9967245332459875,
          0.9963969865705863,
          0.9950867998689813,
          0.9941041598427776,
          0.9970520799213888,
          0.9970520799213888,
          0.99737962659679,
          0.99737962659679,
          0.99737962659679,
          0.9970520799213888,
          0.9957418932197838
         ],
         "yaxis": "y"
        },
        {
         "marker": {
          "color": [
           0,
           1,
           2,
           3,
           4,
           7,
           8,
           10,
           13,
           14,
           16,
           20,
           22,
           24,
           25,
           27,
           28,
           32,
           34,
           35,
           37,
           38,
           41,
           42,
           43,
           44,
           45,
           46,
           49
          ],
          "colorbar": {
           "title": {
            "text": "Trial"
           },
           "x": 1,
           "xpad": 40
          },
          "colorscale": [
           [
            0,
            "rgb(247,251,255)"
           ],
           [
            0.125,
            "rgb(222,235,247)"
           ],
           [
            0.25,
            "rgb(198,219,239)"
           ],
           [
            0.375,
            "rgb(158,202,225)"
           ],
           [
            0.5,
            "rgb(107,174,214)"
           ],
           [
            0.625,
            "rgb(66,146,198)"
           ],
           [
            0.75,
            "rgb(33,113,181)"
           ],
           [
            0.875,
            "rgb(8,81,156)"
           ],
           [
            1,
            "rgb(8,48,107)"
           ]
          ],
          "line": {
           "color": "Grey",
           "width": 0.5
          },
          "showscale": false
         },
         "mode": "markers",
         "name": "Feasible Trial",
         "showlegend": false,
         "type": "scatter",
         "x": [
          "dart",
          "gbtree",
          "dart",
          "dart",
          "dart",
          "dart",
          "gbtree",
          "dart",
          "dart",
          "dart",
          "dart",
          "dart",
          "dart",
          "dart",
          "dart",
          "dart",
          "dart",
          "dart",
          "dart",
          "dart",
          "dart",
          "dart",
          "dart",
          "dart",
          "dart",
          "dart",
          "dart",
          "dart",
          "dart"
         ],
         "xaxis": "x2",
         "y": [
          0.9924664264657713,
          0.9905011464133638,
          0.9963969865705863,
          0.9911562397641663,
          0.9937766131673764,
          0.99475925319358,
          0.9944317065181788,
          0.9950867998689813,
          0.9921388797903702,
          0.9954143465443825,
          0.9967245332459875,
          0.9931215198165738,
          0.996069439895185,
          0.9963969865705863,
          0.9967245332459875,
          0.9954143465443825,
          0.996069439895185,
          0.996069439895185,
          0.9967245332459875,
          0.9963969865705863,
          0.9950867998689813,
          0.9941041598427776,
          0.9970520799213888,
          0.9970520799213888,
          0.99737962659679,
          0.99737962659679,
          0.99737962659679,
          0.9970520799213888,
          0.9957418932197838
         ],
         "yaxis": "y2"
        },
        {
         "marker": {
          "color": [
           0,
           1,
           2,
           3,
           4,
           7,
           8,
           10,
           13,
           14,
           16,
           20,
           22,
           24,
           25,
           27,
           28,
           32,
           34,
           35,
           37,
           38,
           41,
           42,
           43,
           44,
           45,
           46,
           49
          ],
          "colorbar": {
           "title": {
            "text": "Trial"
           },
           "x": 1,
           "xpad": 40
          },
          "colorscale": [
           [
            0,
            "rgb(247,251,255)"
           ],
           [
            0.125,
            "rgb(222,235,247)"
           ],
           [
            0.25,
            "rgb(198,219,239)"
           ],
           [
            0.375,
            "rgb(158,202,225)"
           ],
           [
            0.5,
            "rgb(107,174,214)"
           ],
           [
            0.625,
            "rgb(66,146,198)"
           ],
           [
            0.75,
            "rgb(33,113,181)"
           ],
           [
            0.875,
            "rgb(8,81,156)"
           ],
           [
            1,
            "rgb(8,48,107)"
           ]
          ],
          "line": {
           "color": "Grey",
           "width": 0.5
          },
          "showscale": false
         },
         "mode": "markers",
         "name": "Feasible Trial",
         "showlegend": false,
         "type": "scatter",
         "x": [
          0.8627364489306262,
          0.8474103359817429,
          0.9577296082756428,
          0.7415860293138532,
          0.7229748443341321,
          0.8108593680408318,
          0.9137830504245765,
          0.5011368338350521,
          0.5208073019460183,
          0.6151723480835891,
          0.6163466899768297,
          0.9286992166522602,
          0.6592035416639537,
          0.558317103185298,
          0.5777865547517336,
          0.788621453039354,
          0.559652352487125,
          0.5792653931281865,
          0.5396061058993116,
          0.7718453199065193,
          0.7028795398674891,
          0.532815694230397,
          0.5886740548073532,
          0.5939718647042346,
          0.585494791048681,
          0.5897381113537742,
          0.6394569132102131,
          0.676550411404783,
          0.6332474825773802
         ],
         "xaxis": "x3",
         "y": [
          0.9924664264657713,
          0.9905011464133638,
          0.9963969865705863,
          0.9911562397641663,
          0.9937766131673764,
          0.99475925319358,
          0.9944317065181788,
          0.9950867998689813,
          0.9921388797903702,
          0.9954143465443825,
          0.9967245332459875,
          0.9931215198165738,
          0.996069439895185,
          0.9963969865705863,
          0.9967245332459875,
          0.9954143465443825,
          0.996069439895185,
          0.996069439895185,
          0.9967245332459875,
          0.9963969865705863,
          0.9950867998689813,
          0.9941041598427776,
          0.9970520799213888,
          0.9970520799213888,
          0.99737962659679,
          0.99737962659679,
          0.99737962659679,
          0.9970520799213888,
          0.9957418932197838
         ],
         "yaxis": "y3"
        },
        {
         "marker": {
          "color": [
           0,
           1,
           2,
           3,
           4,
           7,
           8,
           10,
           13,
           14,
           16,
           20,
           22,
           24,
           25,
           27,
           28,
           32,
           34,
           35,
           37,
           38,
           41,
           42,
           43,
           44,
           45,
           46,
           49
          ],
          "colorbar": {
           "title": {
            "text": "Trial"
           },
           "x": 1,
           "xpad": 40
          },
          "colorscale": [
           [
            0,
            "rgb(247,251,255)"
           ],
           [
            0.125,
            "rgb(222,235,247)"
           ],
           [
            0.25,
            "rgb(198,219,239)"
           ],
           [
            0.375,
            "rgb(158,202,225)"
           ],
           [
            0.5,
            "rgb(107,174,214)"
           ],
           [
            0.625,
            "rgb(66,146,198)"
           ],
           [
            0.75,
            "rgb(33,113,181)"
           ],
           [
            0.875,
            "rgb(8,81,156)"
           ],
           [
            1,
            "rgb(8,48,107)"
           ]
          ],
          "line": {
           "color": "Grey",
           "width": 0.5
          },
          "showscale": false
         },
         "mode": "markers",
         "name": "Feasible Trial",
         "showlegend": false,
         "type": "scatter",
         "x": [
          0.045112587350101784,
          0.19275661140668587,
          0.011582035179950339,
          0.014088415259953666,
          0.0010376004179469753,
          0.22172514854844408,
          0.08446928887426018,
          0.0031137969983108076,
          0.01848764707313018,
          0.001835808295464798,
          0.01755479812434271,
          0.041009823668808586,
          0.02404669240467356,
          0.009178573346633464,
          0.010018334672733343,
          0.011742613103956773,
          0.08284987062321002,
          0.006396326473049207,
          0.01415217774216022,
          0.014976705144059257,
          0.004770863785692937,
          0.05056997641065189,
          0.01994762012853268,
          0.007404421874294823,
          0.008406615320225208,
          0.0038625783440768067,
          0.006524882349477876,
          0.0068610327495815596,
          0.001832037322862377
         ],
         "xaxis": "x4",
         "y": [
          0.9924664264657713,
          0.9905011464133638,
          0.9963969865705863,
          0.9911562397641663,
          0.9937766131673764,
          0.99475925319358,
          0.9944317065181788,
          0.9950867998689813,
          0.9921388797903702,
          0.9954143465443825,
          0.9967245332459875,
          0.9931215198165738,
          0.996069439895185,
          0.9963969865705863,
          0.9967245332459875,
          0.9954143465443825,
          0.996069439895185,
          0.996069439895185,
          0.9967245332459875,
          0.9963969865705863,
          0.9950867998689813,
          0.9941041598427776,
          0.9970520799213888,
          0.9970520799213888,
          0.99737962659679,
          0.99737962659679,
          0.99737962659679,
          0.9970520799213888,
          0.9957418932197838
         ],
         "yaxis": "y4"
        },
        {
         "marker": {
          "color": [
           0,
           1,
           2,
           3,
           4,
           7,
           8,
           10,
           13,
           14,
           16,
           20,
           22,
           24,
           25,
           27,
           28,
           32,
           34,
           35,
           37,
           38,
           41,
           42,
           43,
           44,
           45,
           46,
           49
          ],
          "colorbar": {
           "title": {
            "text": "Trial"
           },
           "x": 1,
           "xpad": 40
          },
          "colorscale": [
           [
            0,
            "rgb(247,251,255)"
           ],
           [
            0.125,
            "rgb(222,235,247)"
           ],
           [
            0.25,
            "rgb(198,219,239)"
           ],
           [
            0.375,
            "rgb(158,202,225)"
           ],
           [
            0.5,
            "rgb(107,174,214)"
           ],
           [
            0.625,
            "rgb(66,146,198)"
           ],
           [
            0.75,
            "rgb(33,113,181)"
           ],
           [
            0.875,
            "rgb(8,81,156)"
           ],
           [
            1,
            "rgb(8,48,107)"
           ]
          ],
          "line": {
           "color": "Grey",
           "width": 0.5
          },
          "showscale": false
         },
         "mode": "markers",
         "name": "Feasible Trial",
         "showlegend": false,
         "type": "scatter",
         "x": [
          0.056028079951429666,
          1.0516144563945273e-8,
          0.030016513210751383,
          0.0012373774652662522,
          0.00046151078477560723,
          0.00006976122074696251,
          0.3018174656456045,
          9.913003758825149e-7,
          0.0048696607436937885,
          0.0000013940947443972086,
          0.005477167157542201,
          0.008281129275146565,
          0.0001210816471945055,
          0.0017397479479930333,
          0.0016234674762786346,
          0.646449547838023,
          0.0011468517359342653,
          0.02230557865625564,
          0.0016714060326962776,
          0.06542340119656798,
          0.00031356044309654947,
          0.000014274022281721523,
          0.0033362975983344915,
          0.010968591292958322,
          0.011916378192625601,
          0.010675592279665998,
          0.14794286003968068,
          0.24934249836732622,
          0.08801653013658028
         ],
         "xaxis": "x5",
         "y": [
          0.9924664264657713,
          0.9905011464133638,
          0.9963969865705863,
          0.9911562397641663,
          0.9937766131673764,
          0.99475925319358,
          0.9944317065181788,
          0.9950867998689813,
          0.9921388797903702,
          0.9954143465443825,
          0.9967245332459875,
          0.9931215198165738,
          0.996069439895185,
          0.9963969865705863,
          0.9967245332459875,
          0.9954143465443825,
          0.996069439895185,
          0.996069439895185,
          0.9967245332459875,
          0.9963969865705863,
          0.9950867998689813,
          0.9941041598427776,
          0.9970520799213888,
          0.9970520799213888,
          0.99737962659679,
          0.99737962659679,
          0.99737962659679,
          0.9970520799213888,
          0.9957418932197838
         ],
         "yaxis": "y5"
        },
        {
         "marker": {
          "color": [
           0,
           1,
           2,
           3,
           4,
           7,
           8,
           10,
           13,
           14,
           16,
           20,
           22,
           24,
           25,
           27,
           28,
           32,
           34,
           35,
           37,
           38,
           41,
           42,
           43,
           44,
           45,
           46,
           49
          ],
          "colorbar": {
           "title": {
            "text": "Trial"
           },
           "x": 1,
           "xpad": 40
          },
          "colorscale": [
           [
            0,
            "rgb(247,251,255)"
           ],
           [
            0.125,
            "rgb(222,235,247)"
           ],
           [
            0.25,
            "rgb(198,219,239)"
           ],
           [
            0.375,
            "rgb(158,202,225)"
           ],
           [
            0.5,
            "rgb(107,174,214)"
           ],
           [
            0.625,
            "rgb(66,146,198)"
           ],
           [
            0.75,
            "rgb(33,113,181)"
           ],
           [
            0.875,
            "rgb(8,81,156)"
           ],
           [
            1,
            "rgb(8,48,107)"
           ]
          ],
          "line": {
           "color": "Grey",
           "width": 0.5
          },
          "showscale": false
         },
         "mode": "markers",
         "name": "Feasible Trial",
         "showlegend": false,
         "type": "scatter",
         "x": [
          10,
          8,
          7,
          9,
          6,
          8,
          10,
          4,
          5,
          4,
          5,
          5,
          4,
          4,
          5,
          5,
          9,
          5,
          9,
          9,
          9,
          11,
          3,
          3,
          3,
          3,
          3,
          3,
          3
         ],
         "xaxis": "x6",
         "y": [
          0.9924664264657713,
          0.9905011464133638,
          0.9963969865705863,
          0.9911562397641663,
          0.9937766131673764,
          0.99475925319358,
          0.9944317065181788,
          0.9950867998689813,
          0.9921388797903702,
          0.9954143465443825,
          0.9967245332459875,
          0.9931215198165738,
          0.996069439895185,
          0.9963969865705863,
          0.9967245332459875,
          0.9954143465443825,
          0.996069439895185,
          0.996069439895185,
          0.9967245332459875,
          0.9963969865705863,
          0.9950867998689813,
          0.9941041598427776,
          0.9970520799213888,
          0.9970520799213888,
          0.99737962659679,
          0.99737962659679,
          0.99737962659679,
          0.9970520799213888,
          0.9957418932197838
         ],
         "yaxis": "y6"
        },
        {
         "marker": {
          "color": [
           0,
           1,
           2,
           3,
           4,
           7,
           8,
           10,
           13,
           14,
           16,
           20,
           22,
           24,
           25,
           27,
           28,
           32,
           34,
           35,
           37,
           38,
           41,
           42,
           43,
           44,
           45,
           46,
           49
          ],
          "colorbar": {
           "title": {
            "text": "Trial"
           },
           "x": 1,
           "xpad": 40
          },
          "colorscale": [
           [
            0,
            "rgb(247,251,255)"
           ],
           [
            0.125,
            "rgb(222,235,247)"
           ],
           [
            0.25,
            "rgb(198,219,239)"
           ],
           [
            0.375,
            "rgb(158,202,225)"
           ],
           [
            0.5,
            "rgb(107,174,214)"
           ],
           [
            0.625,
            "rgb(66,146,198)"
           ],
           [
            0.75,
            "rgb(33,113,181)"
           ],
           [
            0.875,
            "rgb(8,81,156)"
           ],
           [
            1,
            "rgb(8,48,107)"
           ]
          ],
          "line": {
           "color": "Grey",
           "width": 0.5
          },
          "showscale": false
         },
         "mode": "markers",
         "name": "Feasible Trial",
         "showlegend": false,
         "type": "scatter",
         "x": [
          0.5388769380666425,
          0.9386746436393332,
          0.5629064392285591,
          0.7382098352273123,
          0.560339210049289,
          0.6910839242518989,
          0.7307540622073891,
          0.6334519259299469,
          0.8039346756549919,
          0.6200836843593571,
          0.5854720075490437,
          0.8157386553210509,
          0.6009068972910468,
          0.5778476233658685,
          0.5006396769835195,
          0.550501854384406,
          0.6579431187845937,
          0.5034728773882975,
          0.562388228400262,
          0.5480521010890914,
          0.6003748921116646,
          0.7135937596171336,
          0.5739281479466929,
          0.5248030344262722,
          0.5263587853974492,
          0.520418878852767,
          0.5240424254879206,
          0.52677065961222,
          0.6060691888962398
         ],
         "xaxis": "x7",
         "y": [
          0.9924664264657713,
          0.9905011464133638,
          0.9963969865705863,
          0.9911562397641663,
          0.9937766131673764,
          0.99475925319358,
          0.9944317065181788,
          0.9950867998689813,
          0.9921388797903702,
          0.9954143465443825,
          0.9967245332459875,
          0.9931215198165738,
          0.996069439895185,
          0.9963969865705863,
          0.9967245332459875,
          0.9954143465443825,
          0.996069439895185,
          0.996069439895185,
          0.9967245332459875,
          0.9963969865705863,
          0.9950867998689813,
          0.9941041598427776,
          0.9970520799213888,
          0.9970520799213888,
          0.99737962659679,
          0.99737962659679,
          0.99737962659679,
          0.9970520799213888,
          0.9957418932197838
         ],
         "yaxis": "y7"
        }
       ],
       "layout": {
        "template": {
         "data": {
          "bar": [
           {
            "error_x": {
             "color": "#2a3f5f"
            },
            "error_y": {
             "color": "#2a3f5f"
            },
            "marker": {
             "line": {
              "color": "#E5ECF6",
              "width": 0.5
             },
             "pattern": {
              "fillmode": "overlay",
              "size": 10,
              "solidity": 0.2
             }
            },
            "type": "bar"
           }
          ],
          "barpolar": [
           {
            "marker": {
             "line": {
              "color": "#E5ECF6",
              "width": 0.5
             },
             "pattern": {
              "fillmode": "overlay",
              "size": 10,
              "solidity": 0.2
             }
            },
            "type": "barpolar"
           }
          ],
          "carpet": [
           {
            "aaxis": {
             "endlinecolor": "#2a3f5f",
             "gridcolor": "white",
             "linecolor": "white",
             "minorgridcolor": "white",
             "startlinecolor": "#2a3f5f"
            },
            "baxis": {
             "endlinecolor": "#2a3f5f",
             "gridcolor": "white",
             "linecolor": "white",
             "minorgridcolor": "white",
             "startlinecolor": "#2a3f5f"
            },
            "type": "carpet"
           }
          ],
          "choropleth": [
           {
            "colorbar": {
             "outlinewidth": 0,
             "ticks": ""
            },
            "type": "choropleth"
           }
          ],
          "contour": [
           {
            "colorbar": {
             "outlinewidth": 0,
             "ticks": ""
            },
            "colorscale": [
             [
              0,
              "#0d0887"
             ],
             [
              0.1111111111111111,
              "#46039f"
             ],
             [
              0.2222222222222222,
              "#7201a8"
             ],
             [
              0.3333333333333333,
              "#9c179e"
             ],
             [
              0.4444444444444444,
              "#bd3786"
             ],
             [
              0.5555555555555556,
              "#d8576b"
             ],
             [
              0.6666666666666666,
              "#ed7953"
             ],
             [
              0.7777777777777778,
              "#fb9f3a"
             ],
             [
              0.8888888888888888,
              "#fdca26"
             ],
             [
              1,
              "#f0f921"
             ]
            ],
            "type": "contour"
           }
          ],
          "contourcarpet": [
           {
            "colorbar": {
             "outlinewidth": 0,
             "ticks": ""
            },
            "type": "contourcarpet"
           }
          ],
          "heatmap": [
           {
            "colorbar": {
             "outlinewidth": 0,
             "ticks": ""
            },
            "colorscale": [
             [
              0,
              "#0d0887"
             ],
             [
              0.1111111111111111,
              "#46039f"
             ],
             [
              0.2222222222222222,
              "#7201a8"
             ],
             [
              0.3333333333333333,
              "#9c179e"
             ],
             [
              0.4444444444444444,
              "#bd3786"
             ],
             [
              0.5555555555555556,
              "#d8576b"
             ],
             [
              0.6666666666666666,
              "#ed7953"
             ],
             [
              0.7777777777777778,
              "#fb9f3a"
             ],
             [
              0.8888888888888888,
              "#fdca26"
             ],
             [
              1,
              "#f0f921"
             ]
            ],
            "type": "heatmap"
           }
          ],
          "heatmapgl": [
           {
            "colorbar": {
             "outlinewidth": 0,
             "ticks": ""
            },
            "colorscale": [
             [
              0,
              "#0d0887"
             ],
             [
              0.1111111111111111,
              "#46039f"
             ],
             [
              0.2222222222222222,
              "#7201a8"
             ],
             [
              0.3333333333333333,
              "#9c179e"
             ],
             [
              0.4444444444444444,
              "#bd3786"
             ],
             [
              0.5555555555555556,
              "#d8576b"
             ],
             [
              0.6666666666666666,
              "#ed7953"
             ],
             [
              0.7777777777777778,
              "#fb9f3a"
             ],
             [
              0.8888888888888888,
              "#fdca26"
             ],
             [
              1,
              "#f0f921"
             ]
            ],
            "type": "heatmapgl"
           }
          ],
          "histogram": [
           {
            "marker": {
             "pattern": {
              "fillmode": "overlay",
              "size": 10,
              "solidity": 0.2
             }
            },
            "type": "histogram"
           }
          ],
          "histogram2d": [
           {
            "colorbar": {
             "outlinewidth": 0,
             "ticks": ""
            },
            "colorscale": [
             [
              0,
              "#0d0887"
             ],
             [
              0.1111111111111111,
              "#46039f"
             ],
             [
              0.2222222222222222,
              "#7201a8"
             ],
             [
              0.3333333333333333,
              "#9c179e"
             ],
             [
              0.4444444444444444,
              "#bd3786"
             ],
             [
              0.5555555555555556,
              "#d8576b"
             ],
             [
              0.6666666666666666,
              "#ed7953"
             ],
             [
              0.7777777777777778,
              "#fb9f3a"
             ],
             [
              0.8888888888888888,
              "#fdca26"
             ],
             [
              1,
              "#f0f921"
             ]
            ],
            "type": "histogram2d"
           }
          ],
          "histogram2dcontour": [
           {
            "colorbar": {
             "outlinewidth": 0,
             "ticks": ""
            },
            "colorscale": [
             [
              0,
              "#0d0887"
             ],
             [
              0.1111111111111111,
              "#46039f"
             ],
             [
              0.2222222222222222,
              "#7201a8"
             ],
             [
              0.3333333333333333,
              "#9c179e"
             ],
             [
              0.4444444444444444,
              "#bd3786"
             ],
             [
              0.5555555555555556,
              "#d8576b"
             ],
             [
              0.6666666666666666,
              "#ed7953"
             ],
             [
              0.7777777777777778,
              "#fb9f3a"
             ],
             [
              0.8888888888888888,
              "#fdca26"
             ],
             [
              1,
              "#f0f921"
             ]
            ],
            "type": "histogram2dcontour"
           }
          ],
          "mesh3d": [
           {
            "colorbar": {
             "outlinewidth": 0,
             "ticks": ""
            },
            "type": "mesh3d"
           }
          ],
          "parcoords": [
           {
            "line": {
             "colorbar": {
              "outlinewidth": 0,
              "ticks": ""
             }
            },
            "type": "parcoords"
           }
          ],
          "pie": [
           {
            "automargin": true,
            "type": "pie"
           }
          ],
          "scatter": [
           {
            "fillpattern": {
             "fillmode": "overlay",
             "size": 10,
             "solidity": 0.2
            },
            "type": "scatter"
           }
          ],
          "scatter3d": [
           {
            "line": {
             "colorbar": {
              "outlinewidth": 0,
              "ticks": ""
             }
            },
            "marker": {
             "colorbar": {
              "outlinewidth": 0,
              "ticks": ""
             }
            },
            "type": "scatter3d"
           }
          ],
          "scattercarpet": [
           {
            "marker": {
             "colorbar": {
              "outlinewidth": 0,
              "ticks": ""
             }
            },
            "type": "scattercarpet"
           }
          ],
          "scattergeo": [
           {
            "marker": {
             "colorbar": {
              "outlinewidth": 0,
              "ticks": ""
             }
            },
            "type": "scattergeo"
           }
          ],
          "scattergl": [
           {
            "marker": {
             "colorbar": {
              "outlinewidth": 0,
              "ticks": ""
             }
            },
            "type": "scattergl"
           }
          ],
          "scattermapbox": [
           {
            "marker": {
             "colorbar": {
              "outlinewidth": 0,
              "ticks": ""
             }
            },
            "type": "scattermapbox"
           }
          ],
          "scatterpolar": [
           {
            "marker": {
             "colorbar": {
              "outlinewidth": 0,
              "ticks": ""
             }
            },
            "type": "scatterpolar"
           }
          ],
          "scatterpolargl": [
           {
            "marker": {
             "colorbar": {
              "outlinewidth": 0,
              "ticks": ""
             }
            },
            "type": "scatterpolargl"
           }
          ],
          "scatterternary": [
           {
            "marker": {
             "colorbar": {
              "outlinewidth": 0,
              "ticks": ""
             }
            },
            "type": "scatterternary"
           }
          ],
          "surface": [
           {
            "colorbar": {
             "outlinewidth": 0,
             "ticks": ""
            },
            "colorscale": [
             [
              0,
              "#0d0887"
             ],
             [
              0.1111111111111111,
              "#46039f"
             ],
             [
              0.2222222222222222,
              "#7201a8"
             ],
             [
              0.3333333333333333,
              "#9c179e"
             ],
             [
              0.4444444444444444,
              "#bd3786"
             ],
             [
              0.5555555555555556,
              "#d8576b"
             ],
             [
              0.6666666666666666,
              "#ed7953"
             ],
             [
              0.7777777777777778,
              "#fb9f3a"
             ],
             [
              0.8888888888888888,
              "#fdca26"
             ],
             [
              1,
              "#f0f921"
             ]
            ],
            "type": "surface"
           }
          ],
          "table": [
           {
            "cells": {
             "fill": {
              "color": "#EBF0F8"
             },
             "line": {
              "color": "white"
             }
            },
            "header": {
             "fill": {
              "color": "#C8D4E3"
             },
             "line": {
              "color": "white"
             }
            },
            "type": "table"
           }
          ]
         },
         "layout": {
          "annotationdefaults": {
           "arrowcolor": "#2a3f5f",
           "arrowhead": 0,
           "arrowwidth": 1
          },
          "autotypenumbers": "strict",
          "coloraxis": {
           "colorbar": {
            "outlinewidth": 0,
            "ticks": ""
           }
          },
          "colorscale": {
           "diverging": [
            [
             0,
             "#8e0152"
            ],
            [
             0.1,
             "#c51b7d"
            ],
            [
             0.2,
             "#de77ae"
            ],
            [
             0.3,
             "#f1b6da"
            ],
            [
             0.4,
             "#fde0ef"
            ],
            [
             0.5,
             "#f7f7f7"
            ],
            [
             0.6,
             "#e6f5d0"
            ],
            [
             0.7,
             "#b8e186"
            ],
            [
             0.8,
             "#7fbc41"
            ],
            [
             0.9,
             "#4d9221"
            ],
            [
             1,
             "#276419"
            ]
           ],
           "sequential": [
            [
             0,
             "#0d0887"
            ],
            [
             0.1111111111111111,
             "#46039f"
            ],
            [
             0.2222222222222222,
             "#7201a8"
            ],
            [
             0.3333333333333333,
             "#9c179e"
            ],
            [
             0.4444444444444444,
             "#bd3786"
            ],
            [
             0.5555555555555556,
             "#d8576b"
            ],
            [
             0.6666666666666666,
             "#ed7953"
            ],
            [
             0.7777777777777778,
             "#fb9f3a"
            ],
            [
             0.8888888888888888,
             "#fdca26"
            ],
            [
             1,
             "#f0f921"
            ]
           ],
           "sequentialminus": [
            [
             0,
             "#0d0887"
            ],
            [
             0.1111111111111111,
             "#46039f"
            ],
            [
             0.2222222222222222,
             "#7201a8"
            ],
            [
             0.3333333333333333,
             "#9c179e"
            ],
            [
             0.4444444444444444,
             "#bd3786"
            ],
            [
             0.5555555555555556,
             "#d8576b"
            ],
            [
             0.6666666666666666,
             "#ed7953"
            ],
            [
             0.7777777777777778,
             "#fb9f3a"
            ],
            [
             0.8888888888888888,
             "#fdca26"
            ],
            [
             1,
             "#f0f921"
            ]
           ]
          },
          "colorway": [
           "#636efa",
           "#EF553B",
           "#00cc96",
           "#ab63fa",
           "#FFA15A",
           "#19d3f3",
           "#FF6692",
           "#B6E880",
           "#FF97FF",
           "#FECB52"
          ],
          "font": {
           "color": "#2a3f5f"
          },
          "geo": {
           "bgcolor": "white",
           "lakecolor": "white",
           "landcolor": "#E5ECF6",
           "showlakes": true,
           "showland": true,
           "subunitcolor": "white"
          },
          "hoverlabel": {
           "align": "left"
          },
          "hovermode": "closest",
          "mapbox": {
           "style": "light"
          },
          "paper_bgcolor": "white",
          "plot_bgcolor": "#E5ECF6",
          "polar": {
           "angularaxis": {
            "gridcolor": "white",
            "linecolor": "white",
            "ticks": ""
           },
           "bgcolor": "#E5ECF6",
           "radialaxis": {
            "gridcolor": "white",
            "linecolor": "white",
            "ticks": ""
           }
          },
          "scene": {
           "xaxis": {
            "backgroundcolor": "#E5ECF6",
            "gridcolor": "white",
            "gridwidth": 2,
            "linecolor": "white",
            "showbackground": true,
            "ticks": "",
            "zerolinecolor": "white"
           },
           "yaxis": {
            "backgroundcolor": "#E5ECF6",
            "gridcolor": "white",
            "gridwidth": 2,
            "linecolor": "white",
            "showbackground": true,
            "ticks": "",
            "zerolinecolor": "white"
           },
           "zaxis": {
            "backgroundcolor": "#E5ECF6",
            "gridcolor": "white",
            "gridwidth": 2,
            "linecolor": "white",
            "showbackground": true,
            "ticks": "",
            "zerolinecolor": "white"
           }
          },
          "shapedefaults": {
           "line": {
            "color": "#2a3f5f"
           }
          },
          "ternary": {
           "aaxis": {
            "gridcolor": "white",
            "linecolor": "white",
            "ticks": ""
           },
           "baxis": {
            "gridcolor": "white",
            "linecolor": "white",
            "ticks": ""
           },
           "bgcolor": "#E5ECF6",
           "caxis": {
            "gridcolor": "white",
            "linecolor": "white",
            "ticks": ""
           }
          },
          "title": {
           "x": 0.05
          },
          "xaxis": {
           "automargin": true,
           "gridcolor": "white",
           "linecolor": "white",
           "ticks": "",
           "title": {
            "standoff": 15
           },
           "zerolinecolor": "white",
           "zerolinewidth": 2
          },
          "yaxis": {
           "automargin": true,
           "gridcolor": "white",
           "linecolor": "white",
           "ticks": "",
           "title": {
            "standoff": 15
           },
           "zerolinecolor": "white",
           "zerolinewidth": 2
          }
         }
        },
        "title": {
         "text": "Slice Plot"
        },
        "width": 2100,
        "xaxis": {
         "anchor": "y",
         "domain": [
          0,
          0.1183673469387755
         ],
         "title": {
          "text": "alpha"
         },
         "type": "log"
        },
        "xaxis2": {
         "anchor": "y2",
         "categoryarray": [
          "gbtree",
          "dart"
         ],
         "categoryorder": "array",
         "domain": [
          0.14693877551020407,
          0.26530612244897955
         ],
         "title": {
          "text": "booster"
         },
         "type": "category"
        },
        "xaxis3": {
         "anchor": "y3",
         "domain": [
          0.29387755102040813,
          0.4122448979591836
         ],
         "title": {
          "text": "colsample_bytree"
         }
        },
        "xaxis4": {
         "anchor": "y4",
         "domain": [
          0.4408163265306122,
          0.5591836734693877
         ],
         "title": {
          "text": "eta"
         },
         "type": "log"
        },
        "xaxis5": {
         "anchor": "y5",
         "domain": [
          0.5877551020408163,
          0.7061224489795918
         ],
         "title": {
          "text": "lambda"
         },
         "type": "log"
        },
        "xaxis6": {
         "anchor": "y6",
         "domain": [
          0.7346938775510204,
          0.8530612244897959
         ],
         "title": {
          "text": "max_depth"
         }
        },
        "xaxis7": {
         "anchor": "y7",
         "domain": [
          0.8816326530612244,
          0.9999999999999999
         ],
         "title": {
          "text": "subsample"
         }
        },
        "yaxis": {
         "anchor": "x",
         "domain": [
          0,
          1
         ],
         "title": {
          "text": "Objective Value"
         }
        },
        "yaxis2": {
         "anchor": "x2",
         "domain": [
          0,
          1
         ],
         "matches": "y",
         "showticklabels": false
        },
        "yaxis3": {
         "anchor": "x3",
         "domain": [
          0,
          1
         ],
         "matches": "y",
         "showticklabels": false
        },
        "yaxis4": {
         "anchor": "x4",
         "domain": [
          0,
          1
         ],
         "matches": "y",
         "showticklabels": false
        },
        "yaxis5": {
         "anchor": "x5",
         "domain": [
          0,
          1
         ],
         "matches": "y",
         "showticklabels": false
        },
        "yaxis6": {
         "anchor": "x6",
         "domain": [
          0,
          1
         ],
         "matches": "y",
         "showticklabels": false
        },
        "yaxis7": {
         "anchor": "x7",
         "domain": [
          0,
          1
         ],
         "matches": "y",
         "showticklabels": false
        }
       }
      }
     },
     "metadata": {},
     "output_type": "display_data"
    }
   ],
   "source": [
    "vis.plot_slice(study)"
   ]
  },
  {
   "cell_type": "code",
   "execution_count": null,
   "metadata": {},
   "outputs": [],
   "source": []
  }
 ],
 "metadata": {
  "kernelspec": {
   "display_name": "base",
   "language": "python",
   "name": "python3"
  },
  "language_info": {
   "codemirror_mode": {
    "name": "ipython",
    "version": 3
   },
   "file_extension": ".py",
   "mimetype": "text/x-python",
   "name": "python",
   "nbconvert_exporter": "python",
   "pygments_lexer": "ipython3",
   "version": "3.11.5"
  }
 },
 "nbformat": 4,
 "nbformat_minor": 2
}
